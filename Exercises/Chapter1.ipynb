{
 "cells": [
  {
   "cell_type": "markdown",
   "metadata": {},
   "source": [
    "#### Exercise 1"
   ]
  },
  {
   "cell_type": "code",
   "execution_count": 10,
   "metadata": {},
   "outputs": [
    {
     "name": "stdout",
     "output_type": "stream",
     "text": [
      "Chris Dinneen\n",
      "32A Grindleford Drive\n",
      "Balcatta, WA, 6021\n"
     ]
    }
   ],
   "source": [
    "print(\"Chris Dinneen\\n32A Grindleford Drive\\nBalcatta, WA, 6021\")"
   ]
  },
  {
   "cell_type": "markdown",
   "metadata": {},
   "source": [
    "#### Exercise 2"
   ]
  },
  {
   "cell_type": "code",
   "execution_count": 1,
   "metadata": {},
   "outputs": [
    {
     "name": "stdout",
     "output_type": "stream",
     "text": [
      "Please Enter your name: blsa\n",
      "Hello blsa\n"
     ]
    }
   ],
   "source": [
    "name=input(\"Please Enter your name: \")\n",
    "print(\"Hello\",name)"
   ]
  },
  {
   "cell_type": "markdown",
   "metadata": {},
   "source": [
    "#### Exercise 3"
   ]
  },
  {
   "cell_type": "code",
   "execution_count": 14,
   "metadata": {},
   "outputs": [
    {
     "name": "stdout",
     "output_type": "stream",
     "text": [
      "Enter width of room (meters): 3\n",
      "Enter length of room (meters): 4\n",
      "Area of room is  12.0 sqm\n"
     ]
    }
   ],
   "source": [
    "width=input(\"Enter width of room (meters): \")\n",
    "length=input(\"Enter length of room (meters): \")\n",
    "area= round(float(width)*float(length),4)\n",
    "print(\"Area of room is \",str(area),\"sqm\")"
   ]
  },
  {
   "cell_type": "markdown",
   "metadata": {},
   "source": [
    "#### Exercise 4"
   ]
  },
  {
   "cell_type": "code",
   "execution_count": 16,
   "metadata": {},
   "outputs": [
    {
     "name": "stdout",
     "output_type": "stream",
     "text": [
      "Enter width of Field (ft): 333\n",
      "Enter length of Field (ft): 333\n",
      "Area of Field is  2.5457 Acres\n"
     ]
    }
   ],
   "source": [
    "width=input(\"Enter width of Field (ft): \")\n",
    "length=input(\"Enter length of Field (ft): \")\n",
    "area= round((float(width)*float(length))/43560,4)\n",
    "print(\"Area of Field is \",str(area),\"Acres\")"
   ]
  },
  {
   "cell_type": "markdown",
   "metadata": {},
   "source": [
    "#### Exercise 5"
   ]
  },
  {
   "cell_type": "code",
   "execution_count": 19,
   "metadata": {},
   "outputs": [
    {
     "name": "stdout",
     "output_type": "stream",
     "text": [
      "Enter number of 1L or less bottles: 1\n",
      "Enter number of bottles greater than 1L: 1\n",
      "Your refund is $0.35\n"
     ]
    }
   ],
   "source": [
    "n_small=input(\"Enter number of 1L or less bottles: \")\n",
    "n_big=  input(\"Enter number of bottles greater than 1L: \")\n",
    "refund_big=int(n_small)*0.1\n",
    "refund_small=int(n_big)*0.25\n",
    "refund_all=round(refund_big+refund_small,2)\n",
    "print(\"Your refund is $\"+str(refund_all))"
   ]
  },
  {
   "cell_type": "markdown",
   "metadata": {},
   "source": [
    "#### Exercise 6"
   ]
  },
  {
   "cell_type": "code",
   "execution_count": 20,
   "metadata": {},
   "outputs": [
    {
     "name": "stdout",
     "output_type": "stream",
     "text": [
      "Enter meal price: 34.21\n",
      "Please pay $43.79\n",
      "Tax: $3.42\n",
      "Tip: $6.16\n"
     ]
    }
   ],
   "source": [
    "meal_price=float(input(\"Enter meal price: \"))\n",
    "tax=meal_price*0.10\n",
    "tip=meal_price*0.18\n",
    "total=meal_price+tax+tip\n",
    "print(\"Please pay $\"+str(round(total,2))+\"\\nTax: $\"+str(round(tax,2))+\"\\nTip: $\"+str(round(tip,2)))\n"
   ]
  },
  {
   "cell_type": "markdown",
   "metadata": {},
   "source": [
    "#### Exercise 7"
   ]
  },
  {
   "cell_type": "code",
   "execution_count": 29,
   "metadata": {},
   "outputs": [
    {
     "name": "stdout",
     "output_type": "stream",
     "text": [
      "Enter number to sum to:5\n",
      "15\n"
     ]
    }
   ],
   "source": [
    "def sum_nums(n):\n",
    "    ''' \n",
    "    int -> int\n",
    "    This function computes (n*n+1)/2'''\n",
    "\n",
    "    return int(((n)*(n+1))/2)\n",
    "\n",
    "num=input(\"Enter number to sum to:\")\n",
    "print(sum_nums(int(num)))"
   ]
  },
  {
   "cell_type": "code",
   "execution_count": 30,
   "metadata": {},
   "outputs": [],
   "source": [
    "#### Exercise 8"
   ]
  },
  {
   "cell_type": "code",
   "execution_count": null,
   "metadata": {},
   "outputs": [],
   "source": []
  }
 ],
 "metadata": {
  "kernelspec": {
   "display_name": "Python 3",
   "language": "python",
   "name": "python3"
  },
  "language_info": {
   "codemirror_mode": {
    "name": "ipython",
    "version": 3
   },
   "file_extension": ".py",
   "mimetype": "text/x-python",
   "name": "python",
   "nbconvert_exporter": "python",
   "pygments_lexer": "ipython3",
   "version": "3.7.6"
  }
 },
 "nbformat": 4,
 "nbformat_minor": 2
}
