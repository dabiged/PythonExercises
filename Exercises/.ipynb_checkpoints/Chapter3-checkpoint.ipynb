{
 "cells": [
  {
   "cell_type": "markdown",
   "metadata": {},
   "source": [
    "#### Exercise 61"
   ]
  },
  {
   "cell_type": "code",
   "execution_count": 12,
   "metadata": {},
   "outputs": [
    {
     "name": "stdout",
     "output_type": "stream",
     "text": [
      "Enter a number (0 to exit):3\n",
      "Enter a number (0 to exit):3\n",
      "Enter a number (0 to exit):3\n",
      "Enter a number (0 to exit):3\n",
      "Enter a number (0 to exit):0\n",
      "average is 3.0\n"
     ]
    }
   ],
   "source": [
    "thisnum=\"-1\"\n",
    "nums=[]\n",
    "while thisnum != \"0\":\n",
    "    thisnum=input(\"Enter a number (0 to exit):\")\n",
    "    nums.append(int(thisnum))\n",
    "    \n",
    "ave=0\n",
    "for i in nums:\n",
    "    ave+=i\n",
    "if len(nums)!= 1:\n",
    "    ave/=(len(nums)-1)\n",
    "    print(\"average is\", ave)\n",
    "else:\n",
    "    print(\"No numbers entered.\")"
   ]
  },
  {
   "cell_type": "markdown",
   "metadata": {},
   "source": [
    "#### Exercise 62"
   ]
  },
  {
   "cell_type": "code",
   "execution_count": 31,
   "metadata": {},
   "outputs": [
    {
     "name": "stdout",
     "output_type": "stream",
     "text": [
      "-----------------------------------\n",
      "Old Price | Discount Price | Saving\n",
      "-----------------------------------\n",
      "      4.95        2.97       1.98\n",
      "      9.95        5.97       3.98\n",
      "     14.95        8.97       5.98\n",
      "     19.95       11.97       7.98\n",
      "     24.95       14.97       9.98\n"
     ]
    }
   ],
   "source": [
    "OldPrices=[i+0.95 for i in range(4,29,5)]\n",
    "DiscRate=0.60\n",
    "print(\"-----------------------------------\")\n",
    "print(\"Old Price | Discount Price | Saving\")\n",
    "print(\"-----------------------------------\")\n",
    "for i in OldPrices:\n",
    "    print (f'{i:10} {round(i*DiscRate,2):11} {round(i*(1-DiscRate),2):10}')"
   ]
  },
  {
   "cell_type": "markdown",
   "metadata": {},
   "source": [
    "#### Exercise 63"
   ]
  },
  {
   "cell_type": "code",
   "execution_count": 37,
   "metadata": {},
   "outputs": [
    {
     "name": "stdout",
     "output_type": "stream",
     "text": [
      "|Celcius | Fahrenheit|\n",
      "|       0|       32.0|\n",
      "|      10|       50.0|\n",
      "|      20|       68.0|\n",
      "|      30|       86.0|\n",
      "|      40|      104.0|\n",
      "|      50|      122.0|\n",
      "|      60|      140.0|\n",
      "|      70|      158.0|\n",
      "|      80|      176.0|\n",
      "|      90|      194.0|\n",
      "|     100|      212.0|\n"
     ]
    }
   ],
   "source": [
    "mint=0\n",
    "maxt=100\n",
    "print(\"|Celcius | Fahrenheit|\")\n",
    "for i in range(mint,maxt+10,10):\n",
    "    print(f'|{i:8}|{i*9/5+32:11}|')"
   ]
  },
  {
   "cell_type": "markdown",
   "metadata": {},
   "source": [
    "#### Exercise 71"
   ]
  },
  {
   "cell_type": "code",
   "execution_count": 49,
   "metadata": {},
   "outputs": [
    {
     "name": "stdout",
     "output_type": "stream",
     "text": [
      "input a number to calculate the square root: 8\n",
      "The Square Root of 8.0 is 2.82842712474619\n"
     ]
    }
   ],
   "source": [
    "thres=10**-12\n",
    "\n",
    "inputnum=input(\"input a number to calculate the square root: \")\n",
    "inputnum=float(inputnum)\n",
    "\n",
    "guess=inputnum/2\n",
    "\n",
    "while (guess*guess)-inputnum >= thres:\n",
    "    guess=(guess+(inputnum/guess))/2\n",
    "    \n",
    "print (f'The Square Root of {inputnum} is {guess}')"
   ]
  },
  {
   "cell_type": "markdown",
   "metadata": {},
   "source": [
    "#### Exercise 80\n"
   ]
  },
  {
   "cell_type": "code",
   "execution_count": 138,
   "metadata": {},
   "outputs": [
    {
     "name": "stdout",
     "output_type": "stream",
     "text": [
      "['T', 'T', 'T'] (3 flips))\n",
      "On average, 3.0 flips were needed.\n"
     ]
    }
   ],
   "source": [
    "from random import random\n",
    "\n",
    "def coin_flip():\n",
    "    '''\n",
    "    None - > str\n",
    "    Simulate a coin Flip. return a str of \"H\" or \"T\"'''\n",
    "    a=int(round(random(),0)) == 0\n",
    "    if a :\n",
    "        return \"H\"\n",
    "    else:\n",
    "        return \"T\"\n",
    "\n",
    "# list for storing the numer of flips to get to 3 in a row.\n",
    "flips=[]\n",
    "for i in range(1):\n",
    "    # the current sequence of flips.\n",
    "    thisseq=[]\n",
    "    # Start with 3 flips \n",
    "    # this is so we dont get an out of bounds error below.\n",
    "    thisseq.append(coin_flip())\n",
    "    thisseq.append(coin_flip())\n",
    "    thisseq.append(coin_flip())\n",
    "    \n",
    "    while True:\n",
    "        if thisseq[-1] == \"H\" and thisseq[-2] == \"H\" and thisseq[-3] == \"H\":\n",
    "            break\n",
    "        elif thisseq[-1] == \"T\" and thisseq[-2] == \"T\" and thisseq[-3] == \"T\":\n",
    "            break\n",
    "        else:\n",
    "            thisseq.append(coin_flip())\n",
    "    print (f'{thisseq} ({len(thisseq)} flips))')\n",
    "    # Save the number of flips.\n",
    "    flips.append(len(thisseq))\n",
    "    \n",
    "# Calc the ave number of flips in this session.\n",
    "ave=sum(flips)/len(flips)\n",
    "\n",
    "print (f'On average, {round(ave,1)} flips were needed.')\n",
    "           "
   ]
  },
  {
   "cell_type": "code",
   "execution_count": 129,
   "metadata": {},
   "outputs": [
    {
     "data": {
      "text/plain": [
       "'H'"
      ]
     },
     "execution_count": 129,
     "metadata": {},
     "output_type": "execute_result"
    }
   ],
   "source": [
    "coin_flip()"
   ]
  },
  {
   "cell_type": "code",
   "execution_count": 92,
   "metadata": {},
   "outputs": [
    {
     "data": {
      "text/plain": [
       "0"
      ]
     },
     "execution_count": 92,
     "metadata": {},
     "output_type": "execute_result"
    }
   ],
   "source": [
    "int(round(random(),0))"
   ]
  },
  {
   "cell_type": "code",
   "execution_count": 78,
   "metadata": {},
   "outputs": [
    {
     "name": "stdout",
     "output_type": "stream",
     "text": [
      "T\n"
     ]
    }
   ],
   "source": [
    "coin=['H','T']\n",
    "print(coin[int(round(random(),0))])"
   ]
  },
  {
   "cell_type": "code",
   "execution_count": null,
   "metadata": {},
   "outputs": [],
   "source": []
  }
 ],
 "metadata": {
  "kernelspec": {
   "display_name": "Python 3",
   "language": "python",
   "name": "python3"
  },
  "language_info": {
   "codemirror_mode": {
    "name": "ipython",
    "version": 3
   },
   "file_extension": ".py",
   "mimetype": "text/x-python",
   "name": "python",
   "nbconvert_exporter": "python",
   "pygments_lexer": "ipython3",
   "version": "3.7.6"
  }
 },
 "nbformat": 4,
 "nbformat_minor": 2
}
