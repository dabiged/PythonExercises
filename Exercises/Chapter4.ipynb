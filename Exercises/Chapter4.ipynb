{
 "cells": [
  {
   "cell_type": "markdown",
   "metadata": {},
   "source": [
    "#### Exercise 81"
   ]
  },
  {
   "cell_type": "code",
   "execution_count": 2,
   "metadata": {},
   "outputs": [
    {
     "name": "stdout",
     "output_type": "stream",
     "text": [
      "What is side 1:3\n",
      "what is side 2:4\n",
      "Hypotenuse is 5.0\n"
     ]
    }
   ],
   "source": [
    "def hypot(a,b):\n",
    "    return (a**2+b**2)**0.5\n",
    "\n",
    "a=input(\"What is side 1:\")\n",
    "b=input(\"what is side 2:\")\n",
    "\n",
    "print(f'Hypotenuse is {hypot(float(a),float(b))}')"
   ]
  },
  {
   "cell_type": "markdown",
   "metadata": {},
   "source": [
    "#### Exercise 92"
   ]
  },
  {
   "cell_type": "code",
   "execution_count": 46,
   "metadata": {},
   "outputs": [
    {
     "name": "stdout",
     "output_type": "stream",
     "text": [
      "What is your number?5\n",
      "5 is a Prime Number\n"
     ]
    }
   ],
   "source": [
    "def isPrime(num):\n",
    "    '''\n",
    "    int -> Bool\n",
    "    \n",
    "    Determines if a number is a prime\n",
    "    \n",
    "    >>> isPrime(4)\n",
    "    False\n",
    "    >>> isPrime(5)\n",
    "    True'''\n",
    "    PrimeStatus=True\n",
    "    if num <= 1:\n",
    "        PrimeStatus=False\n",
    "    else:\n",
    "        for i in range(2,num):\n",
    "            if num%i==0:\n",
    "                PrimeStatus=False\n",
    "    return PrimeStatus\n",
    "\n",
    "def main():\n",
    "    num=input(\"What is your number?\")\n",
    "    if isPrime(int(num)):\n",
    "        print(f'{num} is a Prime Number')\n",
    "    else:\n",
    "        print(f'{num} is not a Prime Number')\n",
    "\n",
    "if __name__ ==\"__main__\":\n",
    "    main()"
   ]
  },
  {
   "cell_type": "code",
   "execution_count": 32,
   "metadata": {},
   "outputs": [
    {
     "name": "stdout",
     "output_type": "stream",
     "text": [
      "2\n"
     ]
    }
   ],
   "source": [
    "for i in range(2,2+1):\n",
    "    print(i)"
   ]
  },
  {
   "cell_type": "code",
   "execution_count": 29,
   "metadata": {},
   "outputs": [
    {
     "ename": "SyntaxError",
     "evalue": "invalid syntax (<ipython-input-29-b68a5956bc74>, line 1)",
     "output_type": "error",
     "traceback": [
      "\u001b[0;36m  File \u001b[0;32m\"<ipython-input-29-b68a5956bc74>\"\u001b[0;36m, line \u001b[0;32m1\u001b[0m\n\u001b[0;31m    help range\u001b[0m\n\u001b[0m             ^\u001b[0m\n\u001b[0;31mSyntaxError\u001b[0m\u001b[0;31m:\u001b[0m invalid syntax\n"
     ]
    }
   ],
   "source": [
    "range"
   ]
  },
  {
   "cell_type": "code",
   "execution_count": null,
   "metadata": {},
   "outputs": [],
   "source": []
  }
 ],
 "metadata": {
  "kernelspec": {
   "display_name": "Python 3",
   "language": "python",
   "name": "python3"
  },
  "language_info": {
   "codemirror_mode": {
    "name": "ipython",
    "version": 3
   },
   "file_extension": ".py",
   "mimetype": "text/x-python",
   "name": "python",
   "nbconvert_exporter": "python",
   "pygments_lexer": "ipython3",
   "version": "3.7.6"
  }
 },
 "nbformat": 4,
 "nbformat_minor": 2
}
