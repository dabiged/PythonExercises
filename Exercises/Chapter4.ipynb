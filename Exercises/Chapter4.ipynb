{
 "cells": [
  {
   "cell_type": "markdown",
   "metadata": {},
   "source": [
    "#### Exercise 81"
   ]
  },
  {
   "cell_type": "code",
   "execution_count": 2,
   "metadata": {},
   "outputs": [
    {
     "name": "stdout",
     "output_type": "stream",
     "text": [
      "What is side 1:3\n",
      "what is side 2:4\n",
      "Hypotenuse is 5.0\n"
     ]
    }
   ],
   "source": [
    "def hypot(a,b):\n",
    "    return (a**2+b**2)**0.5\n",
    "\n",
    "a=input(\"What is side 1:\")\n",
    "b=input(\"what is side 2:\")\n",
    "\n",
    "print(f'Hypotenuse is {hypot(float(a),float(b))}')"
   ]
  },
  {
   "cell_type": "markdown",
   "metadata": {},
   "source": [
    "#### Exercise 82"
   ]
  },
  {
   "cell_type": "code",
   "execution_count": 1,
   "metadata": {},
   "outputs": [
    {
     "data": {
      "text/plain": [
       "5.75"
      ]
     },
     "execution_count": 1,
     "metadata": {},
     "output_type": "execute_result"
    }
   ],
   "source": [
    "def calcFare(dist, basefare=4.00, distfare=0.25):\n",
    "    return basefare+(dist*1000)//140*distfare\n",
    "\n",
    "calcFare(1)"
   ]
  },
  {
   "cell_type": "markdown",
   "metadata": {},
   "source": [
    "#### Exercise 92"
   ]
  },
  {
   "cell_type": "code",
   "execution_count": 2,
   "metadata": {},
   "outputs": [
    {
     "name": "stdout",
     "output_type": "stream",
     "text": [
      "What is your number?5\n",
      "5 is a Prime Number\n"
     ]
    }
   ],
   "source": [
    "def isPrime(num):\n",
    "    '''\n",
    "    int -> Bool\n",
    "    \n",
    "    Determines if a number is a prime\n",
    "    \n",
    "    >>> isPrime(4)\n",
    "    False\n",
    "    >>> isPrime(5)\n",
    "    True'''\n",
    "    PrimeStatus=True\n",
    "    if num <= 1:\n",
    "        PrimeStatus=False\n",
    "    else:\n",
    "        for i in range(2,num):\n",
    "            if num%i==0:\n",
    "                PrimeStatus=False\n",
    "    return PrimeStatus\n",
    "\n",
    "def main():\n",
    "    num=input(\"What is your number?\")\n",
    "    if isPrime(int(num)):\n",
    "        print(f'{num} is a Prime Number')\n",
    "    else:\n",
    "        print(f'{num} is not a Prime Number')\n",
    "\n",
    "if __name__ ==\"__main__\":\n",
    "    main()"
   ]
  },
  {
   "cell_type": "markdown",
   "metadata": {},
   "source": [
    "#### Exercise 93"
   ]
  },
  {
   "cell_type": "code",
   "execution_count": 6,
   "metadata": {},
   "outputs": [
    {
     "data": {
      "text/plain": [
       "59"
      ]
     },
     "execution_count": 6,
     "metadata": {},
     "output_type": "execute_result"
    }
   ],
   "source": [
    "def nextprime(num):\n",
    "    '''Find the next prime larger than num'''\n",
    "    for i in range(num+1,num*2):\n",
    "        if isPrime(i):\n",
    "            return i\n",
    "        \n",
    "nextprime(55)"
   ]
  },
  {
   "cell_type": "markdown",
   "metadata": {},
   "source": [
    "#### Exercise 94"
   ]
  },
  {
   "cell_type": "code",
   "execution_count": 15,
   "metadata": {},
   "outputs": [
    {
     "data": {
      "text/plain": [
       "'!W/Z?BF;'"
      ]
     },
     "execution_count": 15,
     "metadata": {},
     "output_type": "execute_result"
    }
   ],
   "source": [
    "import random\n",
    "\n",
    "def genpw():\n",
    "    pwlength=random.randint(7,10)\n",
    "    pw=''\n",
    "    for i in range(pwlength):\n",
    "        pw=pw+chr(random.randint(33,126))\n",
    "    return pw\n",
    "\n",
    "genpw()"
   ]
  },
  {
   "cell_type": "markdown",
   "metadata": {},
   "source": [
    "#### Exercise 95"
   ]
  },
  {
   "cell_type": "code",
   "execution_count": 28,
   "metadata": {},
   "outputs": [
    {
     "data": {
      "text/plain": [
       "'XBG646'"
      ]
     },
     "execution_count": 28,
     "metadata": {},
     "output_type": "execute_result"
    }
   ],
   "source": [
    "def genlp():\n",
    "    length=random.randint(6,7)\n",
    "    lp=''\n",
    "    if length == 6:\n",
    "        # 3 letters\n",
    "        lp=lp+chr(random.randint(65,90))\n",
    "        lp=lp+chr(random.randint(65,90))\n",
    "        lp=lp+chr(random.randint(65,90))\n",
    "        # 3 numbers\n",
    "        lp=lp+str(random.randint(0,9))\n",
    "        lp=lp+str(random.randint(0,9))          \n",
    "        lp=lp+str(random.randint(0,9))          \n",
    "    else:\n",
    "        lp=lp+str(random.randint(0,9))\n",
    "        lp=lp+str(random.randint(0,9))          \n",
    "        lp=lp+str(random.randint(0,9))\n",
    "        lp=lp+str(random.randint(0,9))\n",
    "        lp=lp+chr(random.randint(65,90))\n",
    "        lp=lp+chr(random.randint(65,90))\n",
    "        lp=lp+chr(random.randint(65,90))\n",
    "    return lp\n",
    "                  \n",
    "\n",
    "genlp()                 "
   ]
  },
  {
   "cell_type": "markdown",
   "metadata": {},
   "source": [
    "#### Exercse 96"
   ]
  },
  {
   "cell_type": "code",
   "execution_count": 38,
   "metadata": {},
   "outputs": [
    {
     "name": "stdout",
     "output_type": "stream",
     "text": [
      "Enter password to check: 1Qapoiuytrew\n",
      "Your password is strong\n"
     ]
    }
   ],
   "source": [
    "def lengthcheck(pw):\n",
    "    return len(pw)>=8\n",
    "\n",
    "def lowercasecheck(pw):\n",
    "    return any([i for i in pw if i in 'abcdefghijklmnopqrstuvwxyz'])\n",
    "\n",
    "def uppercasecheck(pw):\n",
    "    return any([i for i in pw if  i in 'ABCDEFGHIJKLMNOPQRSTUVWXYZ'])\n",
    "\n",
    "def numbercheck(pw):\n",
    "    return any([i for i in pw if i in '0123456789'])\n",
    "\n",
    "\n",
    "def checkpw(pw):\n",
    "    '''str -> bool\n",
    "    \n",
    "    Check if a password is strong enough'''\n",
    "    \n",
    "    if lengthcheck(pw) and lowercasecheck(pw) and uppercasecheck(pw) and numbercheck(pw):\n",
    "        return True\n",
    "    else:\n",
    "        return False\n",
    "    \n",
    "    \n",
    "def main():\n",
    "    pw=input(\"Enter password to check: \")\n",
    "    if checkpw(pw):\n",
    "        print(\"Your password is strong\")\n",
    "    else:\n",
    "        print(\"Your password is weak.\")\n",
    "\n",
    "main()"
   ]
  },
  {
   "cell_type": "markdown",
   "metadata": {},
   "source": [
    "#### Exercise 97"
   ]
  },
  {
   "cell_type": "code",
   "execution_count": 62,
   "metadata": {},
   "outputs": [
    {
     "name": "stdout",
     "output_type": "stream",
     "text": [
      "0 7b|padq(\n",
      "1 +RD#\\O.8\n",
      "2 ZRo./zviK[\n",
      "3 tFKc4uI#/n\n"
     ]
    }
   ],
   "source": [
    "def main():\n",
    "    i=0\n",
    "    candidatepw=genpw()\n",
    "    while not checkpw(candidatepw):\n",
    "        print(i, candidatepw)\n",
    "        i+=1\n",
    "        candidatepw=genpw()\n",
    "        \n",
    "    print(i, candidatepw)\n",
    "main()"
   ]
  },
  {
   "cell_type": "code",
   "execution_count": null,
   "metadata": {},
   "outputs": [],
   "source": []
  }
 ],
 "metadata": {
  "kernelspec": {
   "display_name": "Python 3",
   "language": "python",
   "name": "python3"
  },
  "language_info": {
   "codemirror_mode": {
    "name": "ipython",
    "version": 3
   },
   "file_extension": ".py",
   "mimetype": "text/x-python",
   "name": "python",
   "nbconvert_exporter": "python",
   "pygments_lexer": "ipython3",
   "version": "3.8.5"
  },
  "varInspector": {
   "cols": {
    "lenName": 16,
    "lenType": 16,
    "lenVar": 40
   },
   "kernels_config": {
    "python": {
     "delete_cmd_postfix": "",
     "delete_cmd_prefix": "del ",
     "library": "var_list.py",
     "varRefreshCmd": "print(var_dic_list())"
    },
    "r": {
     "delete_cmd_postfix": ") ",
     "delete_cmd_prefix": "rm(",
     "library": "var_list.r",
     "varRefreshCmd": "cat(var_dic_list()) "
    }
   },
   "types_to_exclude": [
    "module",
    "function",
    "builtin_function_or_method",
    "instance",
    "_Feature"
   ],
   "window_display": false
  }
 },
 "nbformat": 4,
 "nbformat_minor": 2
}
