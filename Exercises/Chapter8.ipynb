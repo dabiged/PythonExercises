{
 "cells": [
  {
   "cell_type": "markdown",
   "metadata": {},
   "source": [
    "#### Exercise 164"
   ]
  },
  {
   "cell_type": "code",
   "execution_count": 29,
   "metadata": {},
   "outputs": [
    {
     "name": "stdout",
     "output_type": "stream",
     "text": [
      "Enter a number (blank to finish) \n",
      "0\n"
     ]
    }
   ],
   "source": [
    "def add_val():\n",
    "    val=input(\"Enter a number (blank to finish) \")\n",
    "    if val == '':\n",
    "        return 0\n",
    "    else:\n",
    "        return add_val()+float((val))\n",
    "\n",
    "add_val()\n",
    "    "
   ]
  },
  {
   "cell_type": "markdown",
   "metadata": {},
   "source": [
    "#### Exercise 165"
   ]
  },
  {
   "cell_type": "code",
   "execution_count": 7,
   "metadata": {},
   "outputs": [
    {
     "data": {
      "text/plain": [
       "1"
      ]
     },
     "execution_count": 7,
     "metadata": {},
     "output_type": "execute_result"
    }
   ],
   "source": [
    "def GCD (a,b):\n",
    "    '''\n",
    "    int, int -> int\n",
    "    \n",
    "    Computer the greatest common divisor of two ints\n",
    "    \n",
    "    >>> GCD(1,2)\n",
    "    1\n",
    "    >>> GCD(12,6)\n",
    "    6\n",
    "    \n",
    "    '''\n",
    "    \n",
    "    if b == 0:\n",
    "        return a\n",
    "    else:\n",
    "        c=a%b\n",
    "        return GCD(b,c)\n",
    "\n",
    "GCD(144,121)"
   ]
  },
  {
   "cell_type": "markdown",
   "metadata": {},
   "source": [
    "#### Exercise 167"
   ]
  },
  {
   "cell_type": "code",
   "execution_count": 14,
   "metadata": {},
   "outputs": [],
   "source": [
    "def isPalindrome(mystr):\n",
    "    '''\n",
    "    str -> bool\n",
    "    \n",
    "    recursively determines if str is a palindrome\n",
    "    >>> isPalindrome(\"abba\")\n",
    "    True\n",
    "    >>> isPalindrome(\"\")\n",
    "    True\n",
    "    >>> isPalindrome(\"a\")\n",
    "    True\n",
    "    >>> isPalindrome(\"abBA\")\n",
    "    True\n",
    "    >>> isPalindrome('abc')\n",
    "    False\n",
    "    '''\n",
    "    mystr=mystr.upper()\n",
    "    if 0 <= len(mystr) <= 1:\n",
    "        return True\n",
    "    elif mystr[0] == mystr[-1]:\n",
    "        return isPalindrome(mystr[1:-2])\n",
    "    else:\n",
    "        return False\n",
    "    \n",
    "    \n",
    "    \n",
    "if __name__ == '__main__':\n",
    "    import doctest\n",
    "    doctest.testmod()"
   ]
  },
  {
   "cell_type": "markdown",
   "metadata": {},
   "source": [
    "#### Exercise 171"
   ]
  },
  {
   "cell_type": "code",
   "execution_count": 36,
   "metadata": {},
   "outputs": [],
   "source": [
    "def Spell(word,symbols):\n",
    "    '''\n",
    "    str, list -> bool\n",
    "    \n",
    "    Determine if word can be spelled using items in symbols\n",
    "    \n",
    "    >>> Spell(\"silicon\",[\"N\",\"O\",\"C\",\"Li\",\"Si\"])\n",
    "    True\n",
    "    >>> Spell(\"\",[\"O\"])\n",
    "    True\n",
    "    '''\n",
    "    \n",
    "    for i,item in enumerate(symbols):\n",
    "        symbols[i]=item.upper()\n",
    "    word=word.upper()\n",
    "    if len(word) == 0:\n",
    "        return True\n",
    "    elif word[0] in symbols:\n",
    "        return Spell(word[1:],symbols)\n",
    "    elif word[0:2] in symbols:\n",
    "        return Spell(word[2:],symbols)\n",
    "    else:\n",
    "        return False\n",
    "    \n",
    "if __name__ == '__main__':\n",
    "    import doctest\n",
    "    doctest.testmod()"
   ]
  },
  {
   "cell_type": "code",
   "execution_count": null,
   "metadata": {},
   "outputs": [],
   "source": []
  }
 ],
 "metadata": {
  "kernelspec": {
   "display_name": "Python 3",
   "language": "python",
   "name": "python3"
  },
  "language_info": {
   "codemirror_mode": {
    "name": "ipython",
    "version": 3
   },
   "file_extension": ".py",
   "mimetype": "text/x-python",
   "name": "python",
   "nbconvert_exporter": "python",
   "pygments_lexer": "ipython3",
   "version": "3.7.6"
  }
 },
 "nbformat": 4,
 "nbformat_minor": 2
}
