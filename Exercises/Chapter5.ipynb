{
 "cells": [
  {
   "cell_type": "markdown",
   "metadata": {},
   "source": [
    "#### Exercise 104"
   ]
  },
  {
   "cell_type": "code",
   "execution_count": 12,
   "metadata": {},
   "outputs": [
    {
     "name": "stdout",
     "output_type": "stream",
     "text": [
      "Insert an integer:5\n",
      "Insert an integer:4\n",
      "Insert an integer:3\n",
      "Insert an integer:2\n",
      "Insert an integer:1\n",
      "Insert an integer:0\n",
      "\n",
      "Your sorted list looks like \n",
      "[1, 2, 3, 4, 5]\n"
     ]
    }
   ],
   "source": [
    "mylist=[]\n",
    "inp=-1\n",
    "while True:\n",
    "    inp=int(input(\"Insert an integer:\"))\n",
    "    if inp != 0:\n",
    "        mylist.append(inp)\n",
    "    else:\n",
    "        break\n",
    "    #print(mylist)\n",
    "          \n",
    "mylist.sort()\n",
    "print(f'\\nYour sorted list looks like \\n{mylist}')"
   ]
  },
  {
   "cell_type": "markdown",
   "metadata": {},
   "source": [
    "#### exercise 105"
   ]
  },
  {
   "cell_type": "code",
   "execution_count": 13,
   "metadata": {},
   "outputs": [
    {
     "name": "stdout",
     "output_type": "stream",
     "text": [
      "Insert an integer:3\n",
      "Insert an integer:6\n",
      "Insert an integer:7\n",
      "Insert an integer:8\n",
      "Insert an integer:9\n",
      "Insert an integer:0\n",
      "\n",
      "Your sorted list looks like \n",
      "\n",
      "9\n",
      "8\n",
      "7\n",
      "6\n",
      "3\n"
     ]
    }
   ],
   "source": [
    "mylist=[]\n",
    "inp=-1\n",
    "while True:\n",
    "    inp=int(input(\"Insert an integer:\"))\n",
    "    if inp != 0:\n",
    "        mylist.append(inp)\n",
    "    else:\n",
    "        break\n",
    "        \n",
    "mylist.sort(reverse=True)\n",
    "print(f'\\nYour sorted list looks like \\n')\n",
    "for i in mylist:\n",
    "    print(i)"
   ]
  },
  {
   "cell_type": "markdown",
   "metadata": {},
   "source": [
    "#### Exercise 106"
   ]
  },
  {
   "cell_type": "code",
   "execution_count": 31,
   "metadata": {},
   "outputs": [
    {
     "name": "stdout",
     "output_type": "stream",
     "text": [
      "enter your list value (Enter to exit)0\n",
      "enter your list value (Enter to exit)1\n",
      "enter your list value (Enter to exit)2\n",
      "enter your list value (Enter to exit)3\n",
      "enter your list value (Enter to exit)4\n",
      "enter your list value (Enter to exit)5\n",
      "enter your list value (Enter to exit)6\n",
      "enter your list value (Enter to exit)7\n",
      "enter your list value (Enter to exit)8\n",
      "enter your list value (Enter to exit)9\n",
      "enter your list value (Enter to exit)10\n",
      "enter your list value (Enter to exit)\n",
      "Input list\n",
      "[0.0, 1.0, 2.0, 3.0, 4.0, 5.0, 6.0, 7.0, 8.0, 9.0, 10.0]\n",
      "New List\n",
      "[2.0, 3.0, 4.0, 5.0, 6.0, 7.0, 8.0]\n"
     ]
    }
   ],
   "source": [
    "def rmOutliers(inplist):\n",
    "    '''\n",
    "    list -> list\n",
    "    \n",
    "    Remove the largest and smallest value from a list'''\n",
    "    mylist=sorted(inplist)\n",
    "    mylist.pop()\n",
    "    mylist.pop(0)\n",
    "    return mylist\n",
    "\n",
    "\n",
    "def main():\n",
    "    inputList=[]\n",
    "    inpstr=input(\"enter your list value (Enter to exit)\")\n",
    "    while inpstr != \"\":\n",
    "        inputList.append(float(inpstr))\n",
    "        inpstr=input(\"enter your list value (Enter to exit)\")\n",
    "\n",
    "        \n",
    "    if len(inputList)<=4:\n",
    "        print(\"Error: List too short\")\n",
    "    else:\n",
    "        newlist=rmOutliers(rmOutliers(inputList))\n",
    "        print(f'Input list\\n{inputList}\\nNew List\\n{newlist}')\n",
    "main()"
   ]
  },
  {
   "cell_type": "code",
   "execution_count": 1,
   "metadata": {},
   "outputs": [
    {
     "name": "stdout",
     "output_type": "stream",
     "text": [
      "enter your list value (Enter to exit)first\n",
      "enter your list value (Enter to exit)second\n",
      "enter your list value (Enter to exit)third\n",
      "enter your list value (Enter to exit)first\n",
      "enter your list value (Enter to exit)second\n",
      "enter your list value (Enter to exit)\n",
      "first\n",
      "second\n",
      "third\n"
     ]
    }
   ],
   "source": [
    "def drop_dups(input):\n",
    "    output=[]\n",
    "    for i in input:\n",
    "        if i not in output:\n",
    "            output.append(i)\n",
    "            \n",
    "    return output\n",
    "\n",
    "def main():\n",
    "    inputList=[]\n",
    "    inpstr=input(\"enter your list value (Enter to exit)\")\n",
    "    while inpstr != \"\":\n",
    "        inputList.append(inpstr)\n",
    "        inpstr=input(\"enter your list value (Enter to exit)\")\n",
    "        \n",
    "    for i in drop_dups(inputList):\n",
    "        print(i)\n",
    "main()"
   ]
  },
  {
   "cell_type": "markdown",
   "metadata": {},
   "source": [
    "#### Exercise 108"
   ]
  },
  {
   "cell_type": "code",
   "execution_count": 4,
   "metadata": {},
   "outputs": [
    {
     "name": "stdout",
     "output_type": "stream",
     "text": [
      "enter your list value (Enter to exit) 3\n",
      "enter your list value (Enter to exit) -4\n",
      "enter your list value (Enter to exit) 1\n",
      "enter your list value (Enter to exit) 0\n",
      "enter your list value (Enter to exit) -1\n",
      "enter your list value (Enter to exit) 0\n",
      "enter your list value (Enter to exit) -2\n",
      "enter your list value (Enter to exit) \n",
      "-4, -1, -2\n",
      "0, 0\n",
      "3, 1\n"
     ]
    }
   ],
   "source": [
    "def negs(input):\n",
    "    negs=\"\"\n",
    "    for i in input:\n",
    "        if i < 0:\n",
    "            negs=negs+\" \"+str(i)\n",
    "    return negs.strip().replace(\" \",\", \")\n",
    "\n",
    "def poss(input):\n",
    "    poss=\"\"\n",
    "    for i in input:\n",
    "        if i > 0:\n",
    "            poss=poss+\" \"+str(i)\n",
    "    return poss.strip().replace(\" \",\", \")\n",
    "\n",
    "def zeroes(input):\n",
    "    zeroes=\"\"\n",
    "    for i in input:\n",
    "        if i == 0:\n",
    "            zeroes=zeroes+\" \"+str(i)\n",
    "    return zeroes.strip().replace(\" \",\", \")\n",
    "\n",
    "def main():\n",
    "    inputList=[]\n",
    "    inpstr=input(\"enter your list value (Enter to exit) \")\n",
    "    while inpstr != \"\":\n",
    "        inputList.append(int(inpstr))\n",
    "        inpstr=input(\"enter your list value (Enter to exit) \")\n",
    "        \n",
    "    print(negs(inputList))\n",
    "    print(zeroes(inputList))\n",
    "    print(poss(inputList))\n",
    "    \n",
    "main()"
   ]
  },
  {
   "cell_type": "markdown",
   "metadata": {},
   "source": [
    "#### Exercise 109"
   ]
  },
  {
   "cell_type": "code",
   "execution_count": 14,
   "metadata": {},
   "outputs": [
    {
     "name": "stdout",
     "output_type": "stream",
     "text": [
      "enter your list value (Enter to exit) \n"
     ]
    },
    {
     "ename": "ValueError",
     "evalue": "invalid literal for int() with base 10: ''",
     "output_type": "error",
     "traceback": [
      "\u001b[0;31m---------------------------------------------------------------------------\u001b[0m",
      "\u001b[0;31mValueError\u001b[0m                                Traceback (most recent call last)",
      "\u001b[0;32m<ipython-input-14-7755ac7f1797>\u001b[0m in \u001b[0;36m<module>\u001b[0;34m\u001b[0m\n\u001b[1;32m     12\u001b[0m     \u001b[0mprint\u001b[0m\u001b[0;34m(\u001b[0m\u001b[0mproper_divisors\u001b[0m\u001b[0;34m(\u001b[0m\u001b[0minpint\u001b[0m\u001b[0;34m)\u001b[0m\u001b[0;34m)\u001b[0m\u001b[0;34m\u001b[0m\u001b[0;34m\u001b[0m\u001b[0m\n\u001b[1;32m     13\u001b[0m \u001b[0;34m\u001b[0m\u001b[0m\n\u001b[0;32m---> 14\u001b[0;31m \u001b[0mmain\u001b[0m\u001b[0;34m(\u001b[0m\u001b[0;34m)\u001b[0m\u001b[0;34m\u001b[0m\u001b[0;34m\u001b[0m\u001b[0m\n\u001b[0m",
      "\u001b[0;32m<ipython-input-14-7755ac7f1797>\u001b[0m in \u001b[0;36mmain\u001b[0;34m()\u001b[0m\n\u001b[1;32m      9\u001b[0m \u001b[0;32mdef\u001b[0m \u001b[0mmain\u001b[0m\u001b[0;34m(\u001b[0m\u001b[0;34m)\u001b[0m\u001b[0;34m:\u001b[0m\u001b[0;34m\u001b[0m\u001b[0;34m\u001b[0m\u001b[0m\n\u001b[1;32m     10\u001b[0m     \u001b[0minp\u001b[0m\u001b[0;34m=\u001b[0m\u001b[0minput\u001b[0m\u001b[0;34m(\u001b[0m\u001b[0;34m\"enter your list value (Enter to exit) \"\u001b[0m\u001b[0;34m)\u001b[0m\u001b[0;34m\u001b[0m\u001b[0;34m\u001b[0m\u001b[0m\n\u001b[0;32m---> 11\u001b[0;31m     \u001b[0minpint\u001b[0m\u001b[0;34m=\u001b[0m\u001b[0mint\u001b[0m\u001b[0;34m(\u001b[0m\u001b[0minp\u001b[0m\u001b[0;34m)\u001b[0m\u001b[0;34m\u001b[0m\u001b[0;34m\u001b[0m\u001b[0m\n\u001b[0m\u001b[1;32m     12\u001b[0m     \u001b[0mprint\u001b[0m\u001b[0;34m(\u001b[0m\u001b[0mproper_divisors\u001b[0m\u001b[0;34m(\u001b[0m\u001b[0minpint\u001b[0m\u001b[0;34m)\u001b[0m\u001b[0;34m)\u001b[0m\u001b[0;34m\u001b[0m\u001b[0;34m\u001b[0m\u001b[0m\n\u001b[1;32m     13\u001b[0m \u001b[0;34m\u001b[0m\u001b[0m\n",
      "\u001b[0;31mValueError\u001b[0m: invalid literal for int() with base 10: ''"
     ]
    }
   ],
   "source": [
    "def proper_divisors(input):\n",
    "    output=[]\n",
    "    for i in range(1, input):\n",
    "        if input %i == 0:\n",
    "            output.append(i)\n",
    "            \n",
    "    return output\n",
    "\n",
    "def main():\n",
    "    inp=input(\"enter your list value (Enter to exit) \")\n",
    "    inpint=int(inp)\n",
    "    print(proper_divisors(inpint))\n",
    "    \n",
    "main()"
   ]
  },
  {
   "cell_type": "markdown",
   "metadata": {},
   "source": [
    "#### Exercise 110"
   ]
  },
  {
   "cell_type": "code",
   "execution_count": 15,
   "metadata": {},
   "outputs": [],
   "source": [
    "def perfect_nums(input):\n",
    "    return sum(proper_divisors(input)) == input"
   ]
  },
  {
   "cell_type": "code",
   "execution_count": 18,
   "metadata": {},
   "outputs": [
    {
     "name": "stdout",
     "output_type": "stream",
     "text": [
      "[0, 6, 28, 496, 8128]\n"
     ]
    }
   ],
   "source": [
    "def main():\n",
    "    perf_nums=[]\n",
    "    for i in range(10000):\n",
    "        if perfect_nums(i):\n",
    "            perf_nums.append(i)\n",
    "    print(perf_nums)\n",
    "    \n",
    "main()"
   ]
  },
  {
   "cell_type": "markdown",
   "metadata": {},
   "source": [
    "#### Exercise 111"
   ]
  },
  {
   "cell_type": "code",
   "execution_count": 34,
   "metadata": {},
   "outputs": [
    {
     "name": "stdout",
     "output_type": "stream",
     "text": [
      "enter your sentence to tokenise (Enter to exit) Examples of contractions include: don’t, isn’t, and wouldn’t.\n",
      "['Examples', 'of', 'contractions', 'include', 'don’t', 'isn’t', 'and', 'wouldn’t']\n"
     ]
    }
   ],
   "source": [
    "def tokenise(inputstr):\n",
    "    output=[]\n",
    "    stripper=\",.?-'!:;\"\n",
    "    for word in inputstr.split():\n",
    "        output.append(word.rstrip(stripper).lstrip(stripper))\n",
    "    return output\n",
    "\n",
    "def main():\n",
    "    inp=input(\"enter your sentence to tokenise (Enter to exit) \")\n",
    "    print(tokenise(inp))\n",
    "    \n",
    "main()"
   ]
  },
  {
   "cell_type": "markdown",
   "metadata": {},
   "source": [
    "#### Exercise 112"
   ]
  },
  {
   "cell_type": "code",
   "execution_count": 39,
   "metadata": {},
   "outputs": [
    {
     "name": "stdout",
     "output_type": "stream",
     "text": [
      "Enter your list values (Enter to exit) 2\n",
      "Enter your list values (Enter to exit) 4\n",
      "Enter your list values (Enter to exit) 6\n",
      "Enter your list values (Enter to exit) 8\n",
      "Enter your list values (Enter to exit) 10\n",
      "Enter your list values (Enter to exit) \n",
      "Below Average numbers: \n",
      "2\n",
      "4\n",
      "Above Average numbers: \n",
      "8\n",
      "10\n",
      "Average numbers: \n",
      "6\n"
     ]
    }
   ],
   "source": [
    "def ave(inputlist):\n",
    "    return sum(inputlist)/len(inputlist)\n",
    "\n",
    "def main():\n",
    "    inputList=[]\n",
    "    inpstr=input(\"Enter your list values (Enter to exit) \")\n",
    "    while inpstr != \"\":\n",
    "        inputList.append(int(inpstr))\n",
    "        inpstr=input(\"Enter your list values (Enter to exit) \")\n",
    "    \n",
    "    print(\"Below Average numbers: \")\n",
    "    for i in inputList:\n",
    "        if i < ave(inputList):\n",
    "            print(i)\n",
    "    print(\"Above Average numbers: \")\n",
    "    for i in inputList:\n",
    "        if i > ave(inputList):\n",
    "            print(i)\n",
    "    print(\"Average numbers: \")\n",
    "    for i in inputList:\n",
    "        if i == ave(inputList):\n",
    "            print(i)\n",
    "\n",
    "main()"
   ]
  },
  {
   "cell_type": "markdown",
   "metadata": {},
   "source": [
    "#### Exercise 113"
   ]
  },
  {
   "cell_type": "code",
   "execution_count": 57,
   "metadata": {},
   "outputs": [
    {
     "data": {
      "text/plain": [
       "'Apples.'"
      ]
     },
     "execution_count": 57,
     "metadata": {},
     "output_type": "execute_result"
    }
   ],
   "source": [
    "def nice_format(inputList):\n",
    "    output=\"\"\n",
    "    for i, val in enumerate(inputList):\n",
    "        if i == 0:\n",
    "            pass\n",
    "        elif i == len(inputList)-1:\n",
    "            output=output+\" and \"            \n",
    "        else:\n",
    "            output=output+\", \"\n",
    "        output=output+val\n",
    "    output=output+\".\"\n",
    "    return output\n",
    "\n",
    "\n",
    "nice_format([\"Apples\"])\n",
    "\n",
    "nice_format([\"Apples\", \"oranges\", \"bananas\", \"pineapple\"])"
   ]
  },
  {
   "cell_type": "markdown",
   "metadata": {},
   "source": [
    "#### Exercise 114"
   ]
  },
  {
   "cell_type": "code",
   "execution_count": 72,
   "metadata": {},
   "outputs": [
    {
     "data": {
      "text/plain": [
       "[2, 10, 18, 20, 29, 49]"
      ]
     },
     "execution_count": 72,
     "metadata": {},
     "output_type": "execute_result"
    }
   ],
   "source": [
    "import random\n",
    "\n",
    "def draw_nums():\n",
    "    nums=[i for i in range(1,50)]\n",
    "    random.shuffle(nums)\n",
    "    output=[]\n",
    "    for i in range(6):\n",
    "        output.append(nums.pop())\n",
    "    output.sort()\n",
    "    return output\n",
    "    \n",
    "draw_nums()"
   ]
  },
  {
   "cell_type": "markdown",
   "metadata": {},
   "source": [
    "\n",
    "#### Exercise 115"
   ]
  },
  {
   "cell_type": "code",
   "execution_count": 96,
   "metadata": {},
   "outputs": [
    {
     "name": "stdout",
     "output_type": "stream",
     "text": [
      "Enter Sentence to translate: I am going to lunch.\n",
      " iway amway inggoay otay unch.lay\n"
     ]
    }
   ],
   "source": [
    "def pig_latin(inpstr):\n",
    "    vowels='aeiou'\n",
    "    vowels=[i for i in vowels]\n",
    "    if inpstr[0] in vowels:\n",
    "        output=inpstr+\"way\"\n",
    "    else:\n",
    "        for i, letter in enumerate(inpstr):\n",
    "            if letter in vowels:\n",
    "                output=inpstr[i:]+inpstr[:i]+\"ay\"\n",
    "                \n",
    "    return output\n",
    "\n",
    "def main():\n",
    "    inpstr=input(\"Enter Sentence to translate: \")\n",
    "    output=\"\"\n",
    "    for word in inpstr.lower().split():\n",
    "        output=output+\" \"+pig_latin(word)\n",
    "    \n",
    "    print(output)\n",
    "            \n",
    "main()"
   ]
  },
  {
   "cell_type": "markdown",
   "metadata": {},
   "source": [
    "#### Exercise 116"
   ]
  },
  {
   "cell_type": "code",
   "execution_count": 97,
   "metadata": {},
   "outputs": [
    {
     "name": "stdout",
     "output_type": "stream",
     "text": [
      "Enter Sentence to translate: I am going to Lunch.\n",
      " Iway amway inggoay otay uncLay.\n"
     ]
    }
   ],
   "source": [
    "def pig_latin(inpstr):\n",
    "    vowels='aeiou'\n",
    "    vowels=[i for i in vowels]\n",
    "    firstupper=False\n",
    "    lastpunc=False\n",
    "    punc=''\n",
    "    if inpstr[0].upper() == inpstr.upper():\n",
    "        firstupper=True\n",
    "        inpstr=inpstr.lower()\n",
    "    if inpstr[-1] in [',','.','?','!']:\n",
    "        lastpunc=True\n",
    "        punc=inpstr[-1]\n",
    "        inpstr=inpstr[:-2]\n",
    "    if inpstr[0] in vowels:\n",
    "        output=inpstr+\"way\"\n",
    "    else:\n",
    "        for i, letter in enumerate(inpstr):\n",
    "            if letter in vowels:\n",
    "                output=inpstr[i:]+inpstr[:i]+\"ay\"\n",
    "    if firstupper:\n",
    "        output=output[0].upper()+output[1:]\n",
    "    if lastpunc:\n",
    "        output=output+punc\n",
    "    return output\n",
    "\n",
    "def main():\n",
    "    inpstr=input(\"Enter Sentence to translate: \")\n",
    "    output=\"\"\n",
    "    for word in inpstr.split():\n",
    "        output=output+\" \"+pig_latin(word)\n",
    "    \n",
    "    print(output)\n",
    "            \n",
    "main()"
   ]
  },
  {
   "cell_type": "markdown",
   "metadata": {},
   "source": [
    "#### Exercise 117"
   ]
  },
  {
   "cell_type": "code",
   "execution_count": 124,
   "metadata": {},
   "outputs": [
    {
     "name": "stdout",
     "output_type": "stream",
     "text": [
      "enter your X value (Enter to exit) 1\n",
      "enter your Y value (Enter to exit) 1\n",
      "enter your X value (Enter to exit) 2\n",
      "enter your Y value (Enter to exit) 2.1\n",
      "enter your X value (Enter to exit) 3\n",
      "enter your Y value (Enter to exit) 2.9\n",
      "enter your X value (Enter to exit) \n",
      "Line of best fit equation: y = 0.95 x + 0.1\n"
     ]
    }
   ],
   "source": [
    "def calc_best_fit(X, Y):\n",
    "    m=None\n",
    "    b=None\n",
    "    \n",
    "    assert len(X) == len(Y)\n",
    "    n=len(X)\n",
    "    \n",
    "    numerator=sum([X[i]*Y[i] for i in range(n)]) - ((sum(X)*sum(Y))/n)\n",
    "    denominator=(sum([X[i]*X[i] for i in range(n)]) - ((sum(X)**2))/n)\n",
    "    \n",
    "    m=numerator/denominator\n",
    "    b = (sum(Y)/n) - m*(sum(X)/n)\n",
    "    \n",
    "    return m, b\n",
    "    \n",
    "def main():\n",
    "    inputxList=[]\n",
    "    inputyList=[]\n",
    "    inpxstr=input(\"enter your X value (Enter to exit) \")\n",
    "    while inpxstr != \"\":\n",
    "        inputxList.append(float(inpxstr))\n",
    "        inpystr=input(\"enter your Y value (Enter to exit) \")\n",
    "        inputyList.append(float(inpystr))\n",
    "        inpxstr=input(\"enter your X value (Enter to exit) \")\n",
    "    \n",
    "    m, b = calc_best_fit(inputxList, inputyList)\n",
    "    print(\"Line of best fit equation: y =\",round(m,2),\"x +\",round(b,2) )\n",
    "        \n",
    "#calc_best_fit([1,2,3],[1,2.1,2.9])\n",
    "main()"
   ]
  },
  {
   "cell_type": "markdown",
   "metadata": {},
   "source": [
    "#### Exercise 118"
   ]
  },
  {
   "cell_type": "code",
   "execution_count": 1,
   "metadata": {},
   "outputs": [],
   "source": [
    "import random\n",
    "\n",
    "def createDeck():\n",
    "    '''\n",
    "    None -> List\n",
    "    \n",
    "    Creates a deck of cards'''\n",
    "    \n",
    "    Nums=[2,3,4,5,6,7,8,9,\"T\",\"J\",\"Q\",\"K\",\"A\"]\n",
    "    Suits=['s','h','d','c']\n",
    "    \n",
    "    deck=[]\n",
    "    for num in Nums:\n",
    "        for suit in Suits:\n",
    "            card=str(str(num)+suit)\n",
    "            deck.append(card)\n",
    "    random.shuffle(deck)        \n",
    "            \n",
    "    return deck\n",
    "\n",
    "    "
   ]
  },
  {
   "cell_type": "markdown",
   "metadata": {},
   "source": [
    "#### exercise 119"
   ]
  },
  {
   "cell_type": "code",
   "execution_count": 2,
   "metadata": {},
   "outputs": [],
   "source": [
    "\n",
    "def deal(numhands,numcards,deck):\n",
    "    '''\n",
    "    (int,int,list)->list of lists'''\n",
    "    hands=[]\n",
    "    for player in range(numhands):\n",
    "        hands.append([])\n",
    "    for i in range(numcards):\n",
    "        for j in range(numhands):\n",
    "            card=deck.pop()\n",
    "            hands[j].append(card)\n",
    "    return hands\n",
    "    \n",
    "    "
   ]
  },
  {
   "cell_type": "code",
   "execution_count": 3,
   "metadata": {},
   "outputs": [],
   "source": [
    "deck=createDeck()\n",
    "hands=deal(4,5,deck)"
   ]
  },
  {
   "cell_type": "markdown",
   "metadata": {},
   "source": [
    "#### Exercise 120"
   ]
  },
  {
   "cell_type": "code",
   "execution_count": 136,
   "metadata": {},
   "outputs": [],
   "source": [
    "def IsListSorted(input):\n",
    "    sortedlist=sorted(input)\n",
    "    if len(input) <= 1:\n",
    "        return True\n",
    "    elif input == sortedlist:\n",
    "        return True\n",
    "    else: \n",
    "        return False"
   ]
  },
  {
   "cell_type": "markdown",
   "metadata": {},
   "source": [
    "#### exercise 121"
   ]
  },
  {
   "cell_type": "code",
   "execution_count": 15,
   "metadata": {},
   "outputs": [
    {
     "data": {
      "text/plain": [
       "0"
      ]
     },
     "execution_count": 15,
     "metadata": {},
     "output_type": "execute_result"
    }
   ],
   "source": [
    "def countRange(mylist,A,B):\n",
    "    '''\n",
    "    list, int, int -> int\n",
    "    \n",
    "    this function counts the numbers of values greater than equal to A and less than B are in a list\n",
    "      mylist: A list\n",
    "      A: starting integer\n",
    "      B: Ending integer\n",
    "    \n",
    "    '''\n",
    "    count=0\n",
    "    if len(mylist) == 0:\n",
    "        return count\n",
    "    else:\n",
    "        for i in range(A,B):\n",
    "            count+=mylist.count(i)\n",
    "        return count\n",
    "    \n",
    "testlist=[1,2,3,4,5,6,7,8,9]\n",
    "countRange(testlist,5,3)\n"
   ]
  },
  {
   "cell_type": "markdown",
   "metadata": {},
   "source": [
    "#### exercise 122"
   ]
  },
  {
   "cell_type": "code",
   "execution_count": 61,
   "metadata": {},
   "outputs": [
    {
     "name": "stdout",
     "output_type": "stream",
     "text": [
      "Enter a mathematical expression to tokenise: ()()()()\n",
      "The tokens of ()()()() are:\n",
      " ['(', ')', '(', ')', '(', ')', '(', ')']\n"
     ]
    }
   ],
   "source": [
    "def tokenize(inputstr):\n",
    "    '''\n",
    "    str -> list\n",
    "    \n",
    "    A function that converts a mathematical statement to a list of tokens\n",
    "    \n",
    "    Some examples (used by doctest)\n",
    "    >>> tokenize('1 + 1')\n",
    "    ['1', '+', '1']\n",
    "    >>> tokenize('')\n",
    "    []\n",
    "    >>> tokenize(\"1+(-1)\")\n",
    "    ['1', '+', '(', '-1', ')']\n",
    "    >>> tokenize(\"(1+10)-1\")\n",
    "    ['(', '1', '+', '10', ')', '-', '1']\n",
    "    >>> tokenize(\"my little pony\")\n",
    "    []\n",
    "    '''\n",
    "    # Remove all spaces. Add one space on the end as a string termination character.\n",
    "    inputstr=inputstr.replace(\" \",\"\")+' '\n",
    "    # Num will collect digits in numbers of length greater than 1 (i.e. 314159)\n",
    "    num=''\n",
    "    # The list of tokens.\n",
    "    output=[]\n",
    "    for i, obj in enumerate(inputstr):\n",
    "        if obj in ['(',')','*','/','^']:\n",
    "            # Math symbols are tokens.\n",
    "            output.append(obj)\n",
    "        elif obj in ['+','-']:\n",
    "            # if the previous character is a number or a close bracket, this sign is on its own.\n",
    "            if i > 0 and (\"0\" <= inputstr[i-1] <= \"9\" or inputstr[i-1] == ')'):\n",
    "                output.append(obj)\n",
    "            else:\n",
    "                # Otherwise it is apart of a number.\n",
    "                num+=obj\n",
    "        elif \"0\" <= obj <= \"9\":\n",
    "            num+=obj\n",
    "            # If the next character is not a digit this number ends.\n",
    "            if not (\"0\" <= inputstr[i+1] <= \"9\"):\n",
    "                output.append(num)\n",
    "                num=''\n",
    "        # We are at the end of our expression.\n",
    "        elif i == len(inputstr) or obj == ' ':\n",
    "            return output\n",
    "        else:\n",
    "            # If we encounter anything not explicitly defined return the empty list.\n",
    "            return []\n",
    "    \n",
    "def run ():\n",
    "    input_expression = input(\"Enter a mathematical expression to tokenise: \")\n",
    "    print(\"The tokens of \"+input_expression+\" are:\\n\", tokenize(input_expression))\n",
    "    \n",
    "    \n",
    "if __name__ == '__main__':\n",
    "    import doctest\n",
    "    doctest.testmod()\n",
    "    run()"
   ]
  },
  {
   "cell_type": "markdown",
   "metadata": {},
   "source": [
    "#### Exercise 125"
   ]
  },
  {
   "cell_type": "code",
   "execution_count": 110,
   "metadata": {},
   "outputs": [],
   "source": [
    "def isSublist (smaller,larger):\n",
    "    '''\n",
    "    list,list -> Bool\n",
    "    \n",
    "    Determines if a smaller list is a sublist of a larger list.\n",
    "    >>> isSublist([1],[1,2,3,4])\n",
    "    True\n",
    "    >>> isSublist([],[1,2,3,4])\n",
    "    True\n",
    "    >>> isSublist([2,3],[1,2,3,4])\n",
    "    True\n",
    "    >>> isSublist([2,4],[1,2,3,4])\n",
    "    False\n",
    "    >>> isSublist([1,2,3,4],[1,2,3,4])\n",
    "    True\n",
    "    \n",
    "    '''  \n",
    "    output=False\n",
    "    for i in range(len(larger)):\n",
    "        if smaller == larger[i:i+len(smaller)]:\n",
    "            output=True\n",
    "        \n",
    "    return output\n",
    "        \n",
    "if __name__ == '__main__':\n",
    "    import doctest\n",
    "    doctest.testmod()"
   ]
  },
  {
   "cell_type": "markdown",
   "metadata": {},
   "source": [
    "#### Exercise 126"
   ]
  },
  {
   "cell_type": "code",
   "execution_count": 122,
   "metadata": {},
   "outputs": [],
   "source": [
    "def CreateSubLists(inputlist):\n",
    "    '''\n",
    "    list -> list of lists\n",
    "    \n",
    "    Create every possible sublist of an input list\n",
    "    \n",
    "    >>> CreateSubLists([1,2,3])\n",
    "    [[], [1], [1, 2], [2], [1, 2, 3], [2, 3], [3]]\n",
    "    >>> CreateSubLists([1])\n",
    "    [[], [1]]\n",
    "       \n",
    "    '''\n",
    "    # accumulator list of lists.\n",
    "    sublists=[]\n",
    "    sublists.append([])\n",
    "    \n",
    "    for j in range(0,len(inputlist)):\n",
    "        for i in range(0,len(inputlist)):\n",
    "            if not isSublist(inputlist[i:j+1], sublists):\n",
    "                sublists.append(inputlist[i:j+1])\n",
    "    return sublists\n",
    "    \n",
    "    \n",
    "if __name__ == '__main__':\n",
    "    import doctest\n",
    "    doctest.testmod()"
   ]
  },
  {
   "cell_type": "markdown",
   "metadata": {},
   "source": [
    "#### Exercise 127"
   ]
  },
  {
   "cell_type": "code",
   "execution_count": 166,
   "metadata": {},
   "outputs": [
    {
     "data": {
      "text/plain": [
       "[2,\n",
       " 3,\n",
       " 5,\n",
       " 7,\n",
       " 11,\n",
       " 13,\n",
       " 17,\n",
       " 19,\n",
       " 23,\n",
       " 29,\n",
       " 31,\n",
       " 37,\n",
       " 41,\n",
       " 43,\n",
       " 47,\n",
       " 53,\n",
       " 59,\n",
       " 61,\n",
       " 67,\n",
       " 71,\n",
       " 73,\n",
       " 79,\n",
       " 83,\n",
       " 89,\n",
       " 97]"
      ]
     },
     "execution_count": 166,
     "metadata": {},
     "output_type": "execute_result"
    }
   ],
   "source": [
    "def sieve_primes(inputint):\n",
    "    nums=[i for i in range(inputint)]\n",
    "    nums[0]=0\n",
    "    nums[1]=0\n",
    "    p=2\n",
    "    while p < inputint:\n",
    "        if p is not None:\n",
    "            for i in range(2*p, inputint, p):\n",
    "                nums[i]=0\n",
    "        p = next((index for index,value in enumerate(nums) if value != 0 and value > p), None)\n",
    "        if p is None:\n",
    "            break\n",
    "    return [i for i in nums if i != 0]\n",
    "\n",
    "sieve_primes(100)"
   ]
  },
  {
   "cell_type": "code",
   "execution_count": null,
   "metadata": {},
   "outputs": [],
   "source": []
  },
  {
   "cell_type": "code",
   "execution_count": null,
   "metadata": {},
   "outputs": [],
   "source": []
  }
 ],
 "metadata": {
  "kernelspec": {
   "display_name": "Python 3",
   "language": "python",
   "name": "python3"
  },
  "language_info": {
   "codemirror_mode": {
    "name": "ipython",
    "version": 3
   },
   "file_extension": ".py",
   "mimetype": "text/x-python",
   "name": "python",
   "nbconvert_exporter": "python",
   "pygments_lexer": "ipython3",
   "version": "3.8.5"
  },
  "varInspector": {
   "cols": {
    "lenName": 16,
    "lenType": 16,
    "lenVar": 40
   },
   "kernels_config": {
    "python": {
     "delete_cmd_postfix": "",
     "delete_cmd_prefix": "del ",
     "library": "var_list.py",
     "varRefreshCmd": "print(var_dic_list())"
    },
    "r": {
     "delete_cmd_postfix": ") ",
     "delete_cmd_prefix": "rm(",
     "library": "var_list.r",
     "varRefreshCmd": "cat(var_dic_list()) "
    }
   },
   "types_to_exclude": [
    "module",
    "function",
    "builtin_function_or_method",
    "instance",
    "_Feature"
   ],
   "window_display": false
  }
 },
 "nbformat": 4,
 "nbformat_minor": 2
}
