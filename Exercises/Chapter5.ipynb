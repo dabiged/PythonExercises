{
 "cells": [
  {
   "cell_type": "markdown",
   "metadata": {},
   "source": [
    "#### Exercise 104"
   ]
  },
  {
   "cell_type": "code",
   "execution_count": 12,
   "metadata": {},
   "outputs": [
    {
     "name": "stdout",
     "output_type": "stream",
     "text": [
      "Insert an integer:5\n",
      "Insert an integer:4\n",
      "Insert an integer:3\n",
      "Insert an integer:2\n",
      "Insert an integer:1\n",
      "Insert an integer:0\n",
      "\n",
      "Your sorted list looks like \n",
      "[1, 2, 3, 4, 5]\n"
     ]
    }
   ],
   "source": [
    "mylist=[]\n",
    "inp=-1\n",
    "while True:\n",
    "    inp=int(input(\"Insert an integer:\"))\n",
    "    if inp != 0:\n",
    "        mylist.append(inp)\n",
    "    else:\n",
    "        break\n",
    "    #print(mylist)\n",
    "          \n",
    "mylist.sort()\n",
    "print(f'\\nYour sorted list looks like \\n{mylist}')"
   ]
  },
  {
   "cell_type": "markdown",
   "metadata": {},
   "source": [
    "#### exercise 105"
   ]
  },
  {
   "cell_type": "code",
   "execution_count": 13,
   "metadata": {},
   "outputs": [
    {
     "name": "stdout",
     "output_type": "stream",
     "text": [
      "Insert an integer:3\n",
      "Insert an integer:6\n",
      "Insert an integer:7\n",
      "Insert an integer:8\n",
      "Insert an integer:9\n",
      "Insert an integer:0\n",
      "\n",
      "Your sorted list looks like \n",
      "\n",
      "9\n",
      "8\n",
      "7\n",
      "6\n",
      "3\n"
     ]
    }
   ],
   "source": [
    "mylist=[]\n",
    "inp=-1\n",
    "while True:\n",
    "    inp=int(input(\"Insert an integer:\"))\n",
    "    if inp != 0:\n",
    "        mylist.append(inp)\n",
    "    else:\n",
    "        break\n",
    "        \n",
    "mylist.sort(reverse=True)\n",
    "print(f'\\nYour sorted list looks like \\n')\n",
    "for i in mylist:\n",
    "    print(i)"
   ]
  },
  {
   "cell_type": "markdown",
   "metadata": {},
   "source": [
    "#### Exercise 106"
   ]
  },
  {
   "cell_type": "code",
   "execution_count": 31,
   "metadata": {},
   "outputs": [
    {
     "name": "stdout",
     "output_type": "stream",
     "text": [
      "enter your list value (Enter to exit)0\n",
      "enter your list value (Enter to exit)1\n",
      "enter your list value (Enter to exit)2\n",
      "enter your list value (Enter to exit)3\n",
      "enter your list value (Enter to exit)4\n",
      "enter your list value (Enter to exit)5\n",
      "enter your list value (Enter to exit)6\n",
      "enter your list value (Enter to exit)7\n",
      "enter your list value (Enter to exit)8\n",
      "enter your list value (Enter to exit)9\n",
      "enter your list value (Enter to exit)10\n",
      "enter your list value (Enter to exit)\n",
      "Input list\n",
      "[0.0, 1.0, 2.0, 3.0, 4.0, 5.0, 6.0, 7.0, 8.0, 9.0, 10.0]\n",
      "New List\n",
      "[2.0, 3.0, 4.0, 5.0, 6.0, 7.0, 8.0]\n"
     ]
    }
   ],
   "source": [
    "def rmOutliers(inplist):\n",
    "    '''\n",
    "    list -> list\n",
    "    \n",
    "    Remove the largest and smallest value from a list'''\n",
    "    mylist=sorted(inplist)\n",
    "    mylist.pop()\n",
    "    mylist.pop(0)\n",
    "    return mylist\n",
    "\n",
    "\n",
    "def main():\n",
    "    inputList=[]\n",
    "    inpstr=input(\"enter your list value (Enter to exit)\")\n",
    "    while inpstr != \"\":\n",
    "        inputList.append(float(inpstr))\n",
    "        inpstr=input(\"enter your list value (Enter to exit)\")\n",
    "\n",
    "        \n",
    "    if len(inputList)<=4:\n",
    "        print(\"Error: List too short\")\n",
    "    else:\n",
    "        newlist=rmOutliers(rmOutliers(inputList))\n",
    "        print(f'Input list\\n{inputList}\\nNew List\\n{newlist}')\n",
    "main()"
   ]
  },
  {
   "cell_type": "markdown",
   "metadata": {},
   "source": [
    "#### Exercise 118"
   ]
  },
  {
   "cell_type": "code",
   "execution_count": 68,
   "metadata": {},
   "outputs": [],
   "source": [
    "import random\n",
    "\n",
    "def createDeck():\n",
    "    '''\n",
    "    None -> List\n",
    "    \n",
    "    Creates a deck of cards'''\n",
    "    \n",
    "    Nums=[2,3,4,5,6,7,8,9,\"T\",\"J\",\"Q\",\"K\",\"A\"]\n",
    "    Suits=['s','h','d','c']\n",
    "    \n",
    "    deck=[]\n",
    "    for num in Nums:\n",
    "        for suit in Suits:\n",
    "            card=str(str(num)+suit)\n",
    "            deck.append(card)\n",
    "    random.shuffle(deck)        \n",
    "            \n",
    "    return deck\n",
    "\n",
    "    "
   ]
  },
  {
   "cell_type": "markdown",
   "metadata": {},
   "source": [
    "#### exercise 119"
   ]
  },
  {
   "cell_type": "code",
   "execution_count": 76,
   "metadata": {},
   "outputs": [],
   "source": [
    "\n",
    "def deal(numhands,numcards,deck):\n",
    "    '''\n",
    "    (int,int,list)->list of lists'''\n",
    "    hands=[]\n",
    "    for player in range(numhands):\n",
    "        hands.append([])\n",
    "    for i in range(numcards):\n",
    "        for j in range(numhands):\n",
    "            card=deck.pop()\n",
    "            hands[j].append(card)\n",
    "    return hands\n",
    "    \n",
    "    "
   ]
  },
  {
   "cell_type": "code",
   "execution_count": 77,
   "metadata": {},
   "outputs": [],
   "source": [
    "deck=createDeck()\n",
    "hands=deal(4,5,deck)"
   ]
  },
  {
   "cell_type": "code",
   "execution_count": 80,
   "metadata": {},
   "outputs": [
    {
     "data": {
      "text/plain": [
       "32"
      ]
     },
     "execution_count": 80,
     "metadata": {},
     "output_type": "execute_result"
    }
   ],
   "source": [
    "hands\n",
    "len(deck)"
   ]
  },
  {
   "cell_type": "code",
   "execution_count": null,
   "metadata": {},
   "outputs": [],
   "source": []
  }
 ],
 "metadata": {
  "kernelspec": {
   "display_name": "Python 3",
   "language": "python",
   "name": "python3"
  },
  "language_info": {
   "codemirror_mode": {
    "name": "ipython",
    "version": 3
   },
   "file_extension": ".py",
   "mimetype": "text/x-python",
   "name": "python",
   "nbconvert_exporter": "python",
   "pygments_lexer": "ipython3",
   "version": "3.7.6"
  }
 },
 "nbformat": 4,
 "nbformat_minor": 2
}
