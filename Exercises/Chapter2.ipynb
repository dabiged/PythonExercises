{
 "cells": [
  {
   "cell_type": "markdown",
   "metadata": {
    "heading_collapsed": true
   },
   "source": [
    "#### Exercise 34"
   ]
  },
  {
   "cell_type": "code",
   "execution_count": 3,
   "metadata": {
    "hidden": true
   },
   "outputs": [
    {
     "name": "stdout",
     "output_type": "stream",
     "text": [
      "Enter a number: 0\n",
      "0 is an even number\n"
     ]
    }
   ],
   "source": [
    "num=input(\"Enter a number: \")\n",
    "if int(num) %2 ==0:\n",
    "    print (num+\" is an even number\")\n",
    "else:\n",
    "    print (num+\" is an odd  number\")"
   ]
  },
  {
   "cell_type": "markdown",
   "metadata": {
    "heading_collapsed": true
   },
   "source": [
    "#### Exercise 35"
   ]
  },
  {
   "cell_type": "code",
   "execution_count": 6,
   "metadata": {
    "hidden": true
   },
   "outputs": [
    {
     "name": "stdout",
     "output_type": "stream",
     "text": [
      "Enter Dog Age in years:3\n",
      "Dog is  25.0 dog years old\n"
     ]
    }
   ],
   "source": [
    "def dogyears(years):\n",
    "    ''' Calculate how old a dog is in dog years given human years.'''\n",
    "    dogyears=0\n",
    "    if humanyears <0 :\n",
    "        print(\"Number of years cannot be negative\")\n",
    "    for year in range(humanyears):\n",
    "        if year <= 1:\n",
    "            dogyears+=10.5\n",
    "        else:\n",
    "            dogyears+=4\n",
    "    return dogyears\n",
    "    \n",
    "\n",
    "humanyears=input(\"Enter Dog Age in years:\")\n",
    "humanyears=int(humanyears) # No Floats!    \n",
    "print(\"Dog is\",dogyears(humanyears), \"dog years old\")"
   ]
  },
  {
   "cell_type": "markdown",
   "metadata": {
    "heading_collapsed": true
   },
   "source": [
    "#### Exercise 36"
   ]
  },
  {
   "cell_type": "code",
   "execution_count": 11,
   "metadata": {
    "hidden": true
   },
   "outputs": [
    {
     "name": "stdout",
     "output_type": "stream",
     "text": [
      "Enter a letter: e\n",
      "e is a vowel\n"
     ]
    }
   ],
   "source": [
    "def isvowel(letter):\n",
    "    if letter == 'y':\n",
    "        print(letter, \"is sometimes a vowel\")\n",
    "    elif letter in 'aeiou':\n",
    "        print(letter, \"is a vowel\")\n",
    "    else:\n",
    "        print(letter, \"is not a vowel\")\n",
    "        \n",
    "def main():\n",
    "    letter=input(\"Enter a letter: \")\n",
    "    isvowel(letter)\n",
    "    \n",
    "main()"
   ]
  },
  {
   "cell_type": "markdown",
   "metadata": {
    "heading_collapsed": true
   },
   "source": [
    "#### Exercise 37"
   ]
  },
  {
   "cell_type": "code",
   "execution_count": 18,
   "metadata": {
    "hidden": true
   },
   "outputs": [
    {
     "name": "stdout",
     "output_type": "stream",
     "text": [
      "Enter number of sides: 1\n",
      "Error: Number of sides outside range 3-10.\n",
      "None\n"
     ]
    }
   ],
   "source": [
    "def NameShape(n):\n",
    "    '''Return the name of a shape given n, the number of sides'''\n",
    "    name=None\n",
    "    shapes={3:'Triangle',4:'Rectangle',5:'Pentagon',6:'Hexagon',\n",
    "            7:'Septagon',8:'Octogon',9:'Nonogon',10:'Decagon'}\n",
    "    if  n< 3 or n >10:\n",
    "        print(\"Error: Number of sides outside range 3-10.\")\n",
    "        return None\n",
    "    else:\n",
    "        return shapes[n]\n",
    "    \n",
    "def main():\n",
    "    n=input(\"Enter number of sides: \")\n",
    "    print(NameShape(int(n)))\n",
    "\n",
    "main()"
   ]
  },
  {
   "cell_type": "markdown",
   "metadata": {},
   "source": [
    "#### Exercise 38"
   ]
  },
  {
   "cell_type": "code",
   "execution_count": 24,
   "metadata": {},
   "outputs": [
    {
     "data": {
      "text/plain": [
       "'31'"
      ]
     },
     "execution_count": 24,
     "metadata": {},
     "output_type": "execute_result"
    }
   ],
   "source": [
    "def daysinMonth(month):\n",
    "    '''Calc the number of days in a month\n",
    "    \n",
    "    str -> str\n",
    "    '''\n",
    "    months={'january':'31',\n",
    "       'february':'28 or 29',\n",
    "       'march':'31',\n",
    "       'april':'30',\n",
    "       'may':'31',\n",
    "       'june':'30',\n",
    "       'july':'31',\n",
    "        'august':'31',\n",
    "        'september':'30',\n",
    "        'october':'31',\n",
    "        'november':'30',\n",
    "        'december':'31'}\n",
    "    if month.lower() not in months.keys():\n",
    "        print(\"Error:\",month,\"is not a recognised month.\")\n",
    "\n",
    "    return months[month.lower()]\n",
    "\n",
    "daysinMonth('march')\n",
    "            "
   ]
  },
  {
   "cell_type": "markdown",
   "metadata": {},
   "source": [
    "#### Exercise 57"
   ]
  },
  {
   "cell_type": "code",
   "execution_count": 5,
   "metadata": {},
   "outputs": [
    {
     "name": "stdout",
     "output_type": "stream",
     "text": [
      "Year:  1890 False\n",
      "Year:  1891 False\n",
      "Year:  1892 True\n",
      "Year:  1893 False\n",
      "Year:  1894 False\n",
      "Year:  1895 False\n",
      "Year:  1896 True\n",
      "Year:  1897 False\n",
      "Year:  1898 False\n",
      "Year:  1899 False\n",
      "Year:  1900 False\n",
      "Year:  1901 False\n",
      "Year:  1902 False\n",
      "Year:  1903 False\n",
      "Year:  1904 True\n",
      "Year:  1905 False\n",
      "Year:  1906 False\n",
      "Year:  1907 False\n",
      "Year:  1908 True\n",
      "Year:  1909 False\n"
     ]
    }
   ],
   "source": [
    "def IsLeap(year):\n",
    "    '''\n",
    "    int -> Bool\n",
    "    Determine if the year is a leap year.\n",
    "    '''\n",
    "    IsLeap=False\n",
    "    if year%400==0:\n",
    "        IsLeap=True\n",
    "    elif year%100==0:\n",
    "        IsLeap=False\n",
    "    elif year%4==0:\n",
    "        IsLeap=True\n",
    "    else:\n",
    "        IsLeap=False\n",
    "    \n",
    "    return IsLeap\n",
    "\n",
    "for i in range(1890,1910):\n",
    "    print(\"Year: \", i, IsLeap(i))"
   ]
  },
  {
   "cell_type": "markdown",
   "metadata": {},
   "source": [
    "#### Exercise 60"
   ]
  },
  {
   "cell_type": "code",
   "execution_count": 105,
   "metadata": {},
   "outputs": [
    {
     "name": "stdout",
     "output_type": "stream",
     "text": [
      "The spin resulted in 25...\n",
      "Pay 25\n",
      "Pay Red\n",
      "Pay Odd\n",
      "Pay 19 to 36\n"
     ]
    }
   ],
   "source": [
    "def paycolor(num):\n",
    "    '''Print payout based on colour'''\n",
    "    red1=[str(i) for i in range(1,10,2)]\n",
    "    red2=[str(i) for i in range(12,19,2)]\n",
    "    red3=[str(i) for i in range(19,28,2)]\n",
    "    red4=[str(i) for i in range(30,37,2)]\n",
    "    red=red1+red2+red3+red4\n",
    "    black=[str(i) for i in range(1, 37) if str(i) not in red]\n",
    "    green=['0','00']\n",
    "    #print(red,black,green)\n",
    "    if num in red:\n",
    "        print(\"Pay Red\")\n",
    "        return 'Red'\n",
    "    elif num in black:\n",
    "        print(\"Pay Black\")\n",
    "        return 'Black'\n",
    "    elif num in green:\n",
    "        return 'Green'\n",
    "    return None\n",
    "    \n",
    "def payrange(num):\n",
    "    '''Print payout based on range'''\n",
    "    if 1 <= int(num) <= 18:\n",
    "        print(\"Pay 1 to 18\")\n",
    "    elif 19 <= int(num) <= 36:\n",
    "        print(\"Pay 19 to 36\")\n",
    "        \n",
    "def paynum(num):\n",
    "    '''Print payout based on number'''\n",
    "    print(\"Pay\", num)\n",
    "    \n",
    "def payoddeven(num):\n",
    "    if num == '0' or num == '00':\n",
    "        pass\n",
    "    elif int(num) % 2 ==1 :\n",
    "        print(\"Pay Odd\")\n",
    "    elif int(num) % 2 == 0:\n",
    "        print(\"Pay Even\")\n",
    "    \n",
    "import random\n",
    "\n",
    "\n",
    "def main():\n",
    "    num=random.randint(0,37)\n",
    "    num=str(num)\n",
    "    if num == '37':\n",
    "        num='00'\n",
    "    print(\"The spin resulted in \"+num+\"...\")\n",
    "\n",
    "    paynum(num)\n",
    "    paycolor(num)\n",
    "    payoddeven(num)\n",
    "    payrange(num)\n",
    "    \n",
    "    \n",
    "main()"
   ]
  },
  {
   "cell_type": "code",
   "execution_count": null,
   "metadata": {},
   "outputs": [],
   "source": []
  }
 ],
 "metadata": {
  "kernelspec": {
   "display_name": "Python 3",
   "language": "python",
   "name": "python3"
  },
  "language_info": {
   "codemirror_mode": {
    "name": "ipython",
    "version": 3
   },
   "file_extension": ".py",
   "mimetype": "text/x-python",
   "name": "python",
   "nbconvert_exporter": "python",
   "pygments_lexer": "ipython3",
   "version": "3.8.5"
  },
  "varInspector": {
   "cols": {
    "lenName": 16,
    "lenType": 16,
    "lenVar": 40
   },
   "kernels_config": {
    "python": {
     "delete_cmd_postfix": "",
     "delete_cmd_prefix": "del ",
     "library": "var_list.py",
     "varRefreshCmd": "print(var_dic_list())"
    },
    "r": {
     "delete_cmd_postfix": ") ",
     "delete_cmd_prefix": "rm(",
     "library": "var_list.r",
     "varRefreshCmd": "cat(var_dic_list()) "
    }
   },
   "types_to_exclude": [
    "module",
    "function",
    "builtin_function_or_method",
    "instance",
    "_Feature"
   ],
   "window_display": false
  }
 },
 "nbformat": 4,
 "nbformat_minor": 2
}
