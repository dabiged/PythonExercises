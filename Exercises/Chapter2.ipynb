{
 "cells": [
  {
   "cell_type": "markdown",
   "metadata": {},
   "source": [
    "#### Exercise 34"
   ]
  },
  {
   "cell_type": "code",
   "execution_count": 3,
   "metadata": {},
   "outputs": [
    {
     "name": "stdout",
     "output_type": "stream",
     "text": [
      "Enter a number: 0\n",
      "0 is an even number\n"
     ]
    }
   ],
   "source": [
    "num=input(\"Enter a number: \")\n",
    "if int(num) %2 ==0:\n",
    "    print (num+\" is an even number\")\n",
    "else:\n",
    "    print (num+\" is an odd  number\")"
   ]
  },
  {
   "cell_type": "markdown",
   "metadata": {},
   "source": [
    "#### Exercise 35"
   ]
  },
  {
   "cell_type": "code",
   "execution_count": null,
   "metadata": {},
   "outputs": [],
   "source": []
  },
  {
   "cell_type": "markdown",
   "metadata": {},
   "source": [
    "#### Exercise 57"
   ]
  },
  {
   "cell_type": "code",
   "execution_count": 5,
   "metadata": {},
   "outputs": [
    {
     "name": "stdout",
     "output_type": "stream",
     "text": [
      "Year:  1890 False\n",
      "Year:  1891 False\n",
      "Year:  1892 True\n",
      "Year:  1893 False\n",
      "Year:  1894 False\n",
      "Year:  1895 False\n",
      "Year:  1896 True\n",
      "Year:  1897 False\n",
      "Year:  1898 False\n",
      "Year:  1899 False\n",
      "Year:  1900 False\n",
      "Year:  1901 False\n",
      "Year:  1902 False\n",
      "Year:  1903 False\n",
      "Year:  1904 True\n",
      "Year:  1905 False\n",
      "Year:  1906 False\n",
      "Year:  1907 False\n",
      "Year:  1908 True\n",
      "Year:  1909 False\n"
     ]
    }
   ],
   "source": [
    "def IsLeap(year):\n",
    "    '''\n",
    "    int -> Bool\n",
    "    Determine if the year is a leap year.\n",
    "    '''\n",
    "    IsLeap=False\n",
    "    if year%400==0:\n",
    "        IsLeap=True\n",
    "    elif year%100==0:\n",
    "        IsLeap=False\n",
    "    elif year%4==0:\n",
    "        IsLeap=True\n",
    "    else:\n",
    "        IsLeap=False\n",
    "    \n",
    "    return IsLeap\n",
    "\n",
    "for i in range(1890,1910):\n",
    "    print(\"Year: \", i, IsLeap(i))"
   ]
  },
  {
   "cell_type": "code",
   "execution_count": null,
   "metadata": {},
   "outputs": [],
   "source": []
  }
 ],
 "metadata": {
  "kernelspec": {
   "display_name": "Python 3",
   "language": "python",
   "name": "python3"
  },
  "language_info": {
   "codemirror_mode": {
    "name": "ipython",
    "version": 3
   },
   "file_extension": ".py",
   "mimetype": "text/x-python",
   "name": "python",
   "nbconvert_exporter": "python",
   "pygments_lexer": "ipython3",
   "version": "3.7.6"
  }
 },
 "nbformat": 4,
 "nbformat_minor": 2
}
