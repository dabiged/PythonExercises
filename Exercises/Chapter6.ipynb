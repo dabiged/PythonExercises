{
 "cells": [
  {
   "cell_type": "markdown",
   "metadata": {},
   "source": [
    "#### Exercise 128"
   ]
  },
  {
   "cell_type": "code",
   "execution_count": 23,
   "metadata": {},
   "outputs": [],
   "source": [
    "def reverseLookup(inputdict, value):\n",
    "    '''\n",
    "    dict, str? -> list\n",
    "    \n",
    "    Find all keys in a dictionary \n",
    "    >>> mydict = {'a':1, 'A':1, 'b':2, 'B':2}\n",
    "    >>> reverseLookup(mydict, 2)\n",
    "    ['b', 'B']\n",
    "    '''\n",
    "    \n",
    "    output=[]\n",
    "    for key, val in mydict.items():\n",
    "        if val == value:\n",
    "            output.append(key)\n",
    "    return output\n",
    "    \n",
    "    \n",
    "    \n",
    "    \n",
    "    \n",
    "if __name__ == '__main__':\n",
    "    import doctest\n",
    "    doctest.testmod()"
   ]
  },
  {
   "cell_type": "markdown",
   "metadata": {},
   "source": [
    "#### Exercise 129"
   ]
  },
  {
   "cell_type": "code",
   "execution_count": 105,
   "metadata": {},
   "outputs": [
    {
     "name": "stdout",
     "output_type": "stream",
     "text": [
      "Total\tSimulated\tExpected\n",
      "\tPercent\t\tPercent\n",
      "2 \t 2.3 \t\t 2.78\n",
      "3 \t 4.3 \t\t 5.56\n",
      "4 \t 9.3 \t\t 8.33\n",
      "5 \t 11.3 \t\t 11.11\n",
      "6 \t 14.1 \t\t 13.89\n",
      "7 \t 18.2 \t\t 16.67\n",
      "8 \t 14.0 \t\t 13.89\n",
      "9 \t 11.0 \t\t 11.11\n",
      "10 \t 8.0 \t\t 8.33\n",
      "11 \t 5.8 \t\t 5.56\n",
      "12 \t 1.7 \t\t 2.78\n"
     ]
    }
   ],
   "source": [
    "def rollDice():\n",
    "    # A function to roll two dice.\n",
    "    import random\n",
    "    # possible values from 1 dice.\n",
    "    dice=[i for i in range(1,7)]\n",
    "    #roll the dice and record the value.\n",
    "    random.shuffle(dice)\n",
    "    die1=dice[0]\n",
    "    #roll the dice and record the value.\n",
    "    random.shuffle(dice)\n",
    "    die2=dice[0]\n",
    "    return die1+die2\n",
    "\n",
    "def CalcActual ():\n",
    "    # initialise\n",
    "    twoDieActual={}\n",
    "    for i in range(2,13):\n",
    "        twoDieActual[i]=0\n",
    "    # roll 2 dice 1000 times.\n",
    "    for i in range(1000):\n",
    "        twoDieActual[rollDice()]+=1\n",
    "    return twoDieActual\n",
    "\n",
    "def CalcExpected ():\n",
    "    twoDieExpected={}\n",
    "    for i in range(2,13):\n",
    "        twoDieExpected[i]=0\n",
    "    # Calculate expected number.\n",
    "    for i in range(1,7):\n",
    "        for j in range(1,7):\n",
    "            twoDieExpected[i+j]+=1\n",
    "    return twoDieExpected\n",
    "\n",
    "def CalcPercent (mydict):\n",
    "    # Converts dict values to percentages\n",
    "    total=sum(mydict.values())\n",
    "    for key, val in mydict.items():\n",
    "        mydict[key]=val*100/total\n",
    "    return mydict\n",
    "\n",
    "def main():\n",
    "    Actual=CalcPercent(CalcActual())\n",
    "    Expected=CalcPercent(CalcExpected())\n",
    "    print (\"Total\\tSimulated\\tExpected\")\n",
    "    print (\"\\tPercent\\t\\tPercent\")\n",
    "    for i in Actual.keys():\n",
    "        print(i,\"\\t\",Actual[i],\"\\t\\t\",round(Expected[i],2))\n",
    "    return None\n",
    "\n",
    "main()"
   ]
  },
  {
   "cell_type": "markdown",
   "metadata": {},
   "source": [
    "#### Exercise 130"
   ]
  },
  {
   "cell_type": "code",
   "execution_count": 159,
   "metadata": {},
   "outputs": [
    {
     "name": "stdout",
     "output_type": "stream",
     "text": [
      "443355555566611966677755531111\n"
     ]
    }
   ],
   "source": [
    "def keys ():\n",
    "    ''' \n",
    "    None -> dict\n",
    "    build dict for sms'''\n",
    "    mydict={}\n",
    "    mydict[1]=['.',',','?','!',':']\n",
    "    mydict[2]=['A','B','C']\n",
    "    mydict[3]=['D','E','F']\n",
    "    mydict[4]=['G','H','I']\n",
    "    mydict[5]=['J','K','L']\n",
    "    mydict[6]=['M','N','O']\n",
    "    mydict[7]=['P','Q','R','S']\n",
    "    mydict[8]=['T','U','V']\n",
    "    mydict[9]=['W','X','Y','Z']\n",
    "    mydict[0]=[' ']\n",
    "    return mydict\n",
    "\n",
    "def keylookup(symbol):\n",
    "    ''' \n",
    "    str -> str\n",
    "    returns numbers needed to get symbol\n",
    "    '''\n",
    "    \n",
    "    SMSDict=keys()\n",
    "    output=\"\"\n",
    "    \n",
    "    symbol=symbol.upper()\n",
    "    for key, val in SMSDict.items():\n",
    "        if symbol in val:\n",
    "            for i in range(len(val)):\n",
    "                output=output+str(key)\n",
    "                if val[i] == symbol:\n",
    "                    return output\n",
    "                \n",
    "def main():\n",
    "    inputstr=\"Hello,World!\"\n",
    "    keystrokes=\"\"\n",
    "    for character in inputstr:\n",
    "        #print(character)\n",
    "        keystrokes=keystrokes+keylookup(character)\n",
    "    print(keystrokes)\n",
    "    \n",
    "main()"
   ]
  },
  {
   "cell_type": "markdown",
   "metadata": {},
   "source": [
    "#### Exercise 131"
   ]
  },
  {
   "cell_type": "code",
   "execution_count": 185,
   "metadata": {},
   "outputs": [
    {
     "name": "stdout",
     "output_type": "stream",
     "text": [
      "Enter your message to convert to Morse Code: Hello, World!\n",
      ".... . .-.. .-.. --- .-- --- .-. .-.. -.. \n"
     ]
    }
   ],
   "source": [
    "def MorseDict():\n",
    "    '''\n",
    "    None -> Dict\n",
    "    Build Morse Code Dictionary\n",
    "    '''\n",
    "    D={}\n",
    "    D['A']='.-'\n",
    "    D['B']='-...'\n",
    "    D['C']='-.-.'\n",
    "    D['D']='-..'\n",
    "    D['E']='.'\n",
    "    D['F']='..-.'\n",
    "    D['G']='--.'\n",
    "    D['H']='....'\n",
    "    D['I']='..'\n",
    "    D['J']='.---'\n",
    "    D['K']='-.-'\n",
    "    D['L']='.-..'\n",
    "    D['M']='--'\n",
    "    D['N']='-.'\n",
    "    D['O']='---'\n",
    "    D['P']='.--.'\n",
    "    D['Q']='--.-'\n",
    "    D['R']='.-.'\n",
    "    D['S']='...'\n",
    "    D['T']='-'\n",
    "    D['U']='..-'\n",
    "    D['V']='...-'\n",
    "    D['W']='.--'\n",
    "    D['X']='-..-'\n",
    "    D['Y']='-.--'\n",
    "    D['Z']='--..'\n",
    "    D['0']='-----'\n",
    "    D['1']='.----'\n",
    "    D['2']='..---'\n",
    "    D['3']='...--'\n",
    "    D['4']='....-'\n",
    "    D['5']='.....'\n",
    "    D['6']='-....'\n",
    "    D['7']='--...'\n",
    "    D['8']='---..'\n",
    "    D['9']='----.'\n",
    "    return D\n",
    "\n",
    "def Morselookup(symbol):\n",
    "    ''' \n",
    "    str -> str\n",
    "    returns dots and dashes needed to get symbol\n",
    "    '''\n",
    "    \n",
    "    MorseCode=MorseDict()\n",
    "    output=\"\"\n",
    "    \n",
    "    symbol=symbol.upper()\n",
    "    for key, val in MorseCode.items():\n",
    "        if symbol == key:\n",
    "            return str(val)+\" \"\n",
    "    # Only return a blank string if the requested symbol was not in the dict.    \n",
    "    return \"\"\n",
    "\n",
    "inputstr=input(\"Enter your message to convert to Morse Code: \")\n",
    "dotsdashes=\"\"\n",
    "for char in inputstr:\n",
    "    dotsdashes=dotsdashes+Morselookup(char)\n",
    "print (dotsdashes)"
   ]
  },
  {
   "cell_type": "markdown",
   "metadata": {},
   "source": [
    "#### Exercise 132"
   ]
  },
  {
   "cell_type": "code",
   "execution_count": 21,
   "metadata": {
    "code_folding": [
     0
    ]
   },
   "outputs": [
    {
     "name": "stdout",
     "output_type": "stream",
     "text": [
      "What is your postcode?T2N 1N4\n",
      "Your postcode T2N 1N4 is from province: Alberta and is an urban address\n"
     ]
    }
   ],
   "source": [
    "def postcode_lookup(postcode):\n",
    "    '''\n",
    "    str -> str, bool, bool\n",
    "    \n",
    "    Looks up the province and if a postcode is urban or rural in canada.\n",
    "    input:\n",
    "    postcode      (str)\n",
    "    returns:\n",
    "    province name (list of str)\n",
    "    ISRural       (bool)\n",
    "    IsValid       (bool)\n",
    "    '''\n",
    "    \n",
    "    province_dict={}\n",
    "    province_dict['A']=['Newfoundland']\n",
    "    province_dict['B']=['Nova Scotia']\n",
    "    province_dict['C']=['Prince Edward Island']\n",
    "    province_dict['D']=None\n",
    "    province_dict['E']=['New Brunswick']\n",
    "    province_dict['F']=None\n",
    "    province_dict['G']=['Quebec']\n",
    "    province_dict['H']=['Quebec']\n",
    "    province_dict['I']=None\n",
    "    province_dict['J']=['Quebec']\n",
    "    province_dict['K']=['Ontario']\n",
    "    province_dict['L']=['Ontario']\n",
    "    province_dict['M']=['Ontario']\n",
    "    province_dict['N']=['Ontario']\n",
    "    province_dict['O']=None\n",
    "    province_dict['P']=['Ontario']\n",
    "    province_dict['Q']=None\n",
    "    province_dict['R']=['Manitoba']\n",
    "    province_dict['S']=['Saskatchewan']\n",
    "    province_dict['T']=['Alberta']\n",
    "    province_dict['U']=None\n",
    "    province_dict['V']=['British Columbia']\n",
    "    province_dict['W']=None\n",
    "    province_dict['X']=['Nunavut','Northwest Territories']\n",
    "    province_dict['Y']=['Yukon']\n",
    "    province_dict['Z']=None\n",
    "    \n",
    "    numbers=[str(i) for i in list(range(0,10))]\n",
    "    \n",
    "    province_name=None\n",
    "    IsRural=None\n",
    "    IsValid=False\n",
    "    \n",
    "    postcode=postcode.replace(\" \",\"\")\n",
    "    postcode=postcode.upper()\n",
    "    \n",
    "    # Validity tests:\n",
    "    # Length\n",
    "    if len(postcode) != 6:\n",
    "        isValid=False\n",
    "        print(\"Error: Postcode is not 6 characters.\")\n",
    "        return None, None, False\n",
    "    # first letter of the postcode\n",
    "    if province_dict[postcode[0]] == None :\n",
    "        isValid=False\n",
    "        print(\"Error: Invalid first letter detected.\")\n",
    "        return None, None, False\n",
    "    # Letters are letters\n",
    "    if (postcode[2] not in province_dict.keys()) or (postcode[4] not in province_dict.keys()):\n",
    "        isValid=False\n",
    "        print(\"Error: The Third or Fifth character is not a letter.\")\n",
    "        return None, None, False\n",
    "    # Numbers are numbers\n",
    "    if (postcode[1] not in numbers) or (postcode[3] not in numbers) or (postcode[5] not in numbers):\n",
    "        isValid=False\n",
    "        print(\"Error: The Second, Fourth or Sixth character is not a Number.\")\n",
    "        return None, None, False    \n",
    "    \n",
    "    IsValid=True\n",
    "    \n",
    "    if(postcode[1] == 0):\n",
    "        isRural=True\n",
    "    else:\n",
    "        isRural=False\n",
    "    \n",
    "    province=province_dict[postcode[0]]\n",
    "    \n",
    "    return province, IsRural, IsValid\n",
    "\n",
    "def main():\n",
    "    input_postcode=input(\"What is your postcode?\")\n",
    "    province, rural, valid = postcode_lookup(input_postcode)\n",
    "\n",
    "    if valid:\n",
    "        print(\"Your postcode\", input_postcode, \"is from province:\", end=\" \")\n",
    "        if len(province) == 2:\n",
    "            print(province[1], \" or\", end=\"\")\n",
    "        print(province[0], end=\"\")\n",
    "        if rural:\n",
    "            print(\" and is a rural address\")\n",
    "        else:\n",
    "            print(\" and is an urban address\")\n",
    "    else:\n",
    "        print(\"Your postcode\", input_postcode, \"is invalid\")\n",
    "        \n",
    "main()"
   ]
  },
  {
   "cell_type": "markdown",
   "metadata": {},
   "source": [
    "#### Exercise 133"
   ]
  },
  {
   "cell_type": "code",
   "execution_count": 47,
   "metadata": {},
   "outputs": [
    {
     "name": "stdout",
     "output_type": "stream",
     "text": [
      "Input Integer: 314\n",
      "three hundred fourteen\n"
     ]
    }
   ],
   "source": [
    "def writenums(num):\n",
    "    '''\n",
    "    int -> str\n",
    "    Converts an 3 digit integer into a str of english\n",
    "    \n",
    "    >>> writenums(7)\n",
    "    seven\n",
    "    >>> writenums(13)\n",
    "    thirteen\n",
    "    >>> writenums(23)\n",
    "    twenty three\n",
    "    >>> writenums(142)\n",
    "    one hundred forty two    \n",
    "    '''\n",
    "    num=str(num)\n",
    "    \n",
    "    onesteens={}\n",
    "    onesteens['1']='one'\n",
    "    onesteens['2']='two'\n",
    "    onesteens['3']='three'\n",
    "    onesteens['4']='four'\n",
    "    onesteens['5']='five'\n",
    "    onesteens['6']='six'\n",
    "    onesteens['7']='seven'\n",
    "    onesteens['8']='eight'\n",
    "    onesteens['9']='nine'\n",
    "    onesteens['10']='ten'\n",
    "    onesteens['11']='eleven'\n",
    "    onesteens['12']='twelve'\n",
    "    onesteens['13']='thirteen'\n",
    "    onesteens['14']='fourteen'\n",
    "    onesteens['15']='fifteen'\n",
    "    onesteens['16']='sixteen'\n",
    "    onesteens['17']='seventeen'\n",
    "    onesteens['18']='eighteen'\n",
    "    onesteens['19']='nineteen'\n",
    "    onesteens['20']='twenty'\n",
    "    onesteens['30']='thirty'\n",
    "    onesteens['40']='forty'\n",
    "    onesteens['50']='fifty'\n",
    "    onesteens['60']='sixty'\n",
    "    onesteens['70']='seventy'\n",
    "    onesteens['80']='eighty'\n",
    "    onesteens['90']='ninety'\n",
    "    \n",
    "    output=\"\"\n",
    "\n",
    "    if int(num) // 100 > 0:\n",
    "        output=output+onesteens[num[0]]+\" hundred \"\n",
    "        num=num[1:]\n",
    "    if int(num) <= 20:\n",
    "        output=output+onesteens[num]\n",
    "    else:\n",
    "                                # remove the ones to get the thirty, forty etc\n",
    "        output=output+onesteens[num[0]+'0']+\" \"\n",
    "        num=num[1:]\n",
    "        output=output+onesteens[num[0]]\n",
    "        \n",
    "    return output\n",
    "    \n",
    "\n",
    "def main():\n",
    "    input_number=input(\"Input Integer: \")\n",
    "    input_number=int(input_number)\n",
    "    \n",
    "    print(writenums(input_number))\n",
    "\n",
    "main()"
   ]
  },
  {
   "cell_type": "markdown",
   "metadata": {},
   "source": [
    "#### Exercise 134"
   ]
  },
  {
   "cell_type": "code",
   "execution_count": 192,
   "metadata": {},
   "outputs": [
    {
     "name": "stdout",
     "output_type": "stream",
     "text": [
      "Enter a string: z\n",
      "There are 1 unique characters in z\n"
     ]
    }
   ],
   "source": [
    "def countUniq(inputstr):\n",
    "    '''\n",
    "    str -> int\n",
    "    returns a count of the number of unique character in a string'''\n",
    "    numunique=0\n",
    "    \n",
    "    chardict={}\n",
    "    for char in inputstr:\n",
    "        if char not in chardict.keys():\n",
    "            chardict[char]=1\n",
    "    return sum(chardict.values())\n",
    "    \n",
    "    \n",
    "def main():\n",
    "    userstr=input(\"Enter a string: \")\n",
    "    print(\"There are\", countUniq(userstr),\"unique characters in\",userstr)\n",
    "    return None\n",
    "\n",
    "main()\n",
    "    "
   ]
  },
  {
   "cell_type": "markdown",
   "metadata": {},
   "source": [
    "#### Exercise 135"
   ]
  },
  {
   "cell_type": "code",
   "execution_count": 204,
   "metadata": {},
   "outputs": [
    {
     "name": "stdout",
     "output_type": "stream",
     "text": [
      "Enter your first word: baris\n",
      "Enter your second word: zz\n",
      "Sorry, this is not an anagram\n"
     ]
    }
   ],
   "source": [
    "def checkAnagram(word1, word2):\n",
    "    '''\n",
    "    str, str -> bool\n",
    "    \n",
    "    Check if two words are anagrams\n",
    "    \n",
    "    '''\n",
    "    \n",
    "    word1dict={}\n",
    "    word2dict={}\n",
    "    \n",
    "    for char in word1:\n",
    "        if char not in word1dict.keys():\n",
    "            word1dict[char]=1\n",
    "        else:\n",
    "            word1dict[char]+=1\n",
    "    for char in word2:\n",
    "        if char not in word2dict.keys():\n",
    "            word2dict[char]=1\n",
    "        else:\n",
    "            word2dict[char]+=1    \n",
    "    return word1dict == word2dict\n",
    "\n",
    "word1=input(\"Enter your first word: \")\n",
    "word2=input(\"Enter your second word: \")\n",
    "\n",
    "if checkAnagram(word1,word2):\n",
    "    print (\"Congratulations, you found an anagram\")\n",
    "else:\n",
    "    print(\"Sorry, this is not an anagram\")"
   ]
  },
  {
   "cell_type": "markdown",
   "metadata": {},
   "source": [
    "#### Exercise 136"
   ]
  },
  {
   "cell_type": "code",
   "execution_count": 206,
   "metadata": {},
   "outputs": [
    {
     "name": "stdout",
     "output_type": "stream",
     "text": [
      "Enter your first word: William Shakespeare\n",
      "Enter your second word: I am a weakish speller\n",
      "Congratulations, you found an anagram\n"
     ]
    }
   ],
   "source": [
    "def checkAnagram(word1, word2):\n",
    "    '''\n",
    "    str, str -> bool\n",
    "    \n",
    "    Check if two words are anagrams\n",
    "    \n",
    "    '''\n",
    "    \n",
    "    word1=word1.upper()\n",
    "    word2=word2.upper()\n",
    "    \n",
    "    word1=word1.replace(\" \",\"\")\n",
    "    word2=word2.replace(\" \",\"\")\n",
    "    \n",
    "    word1dict={}\n",
    "    word2dict={}\n",
    "    \n",
    "    for char in word1:\n",
    "        if char not in word1dict.keys():\n",
    "            word1dict[char]=1\n",
    "        else:\n",
    "            word1dict[char]+=1\n",
    "    for char in word2:\n",
    "        if char not in word2dict.keys():\n",
    "            word2dict[char]=1\n",
    "        else:\n",
    "            word2dict[char]+=1    \n",
    "    return word1dict == word2dict\n",
    "\n",
    "word1=input(\"Enter your first word: \")\n",
    "word2=input(\"Enter your second word: \")\n",
    "\n",
    "if checkAnagram(word1,word2):\n",
    "    print (\"Congratulations, you found an anagram\")\n",
    "else:\n",
    "    print(\"Sorry, this is not an anagram\")"
   ]
  },
  {
   "cell_type": "markdown",
   "metadata": {},
   "source": [
    "#### Exercise 137"
   ]
  },
  {
   "cell_type": "code",
   "execution_count": 62,
   "metadata": {},
   "outputs": [
    {
     "data": {
      "text/plain": [
       "14"
      ]
     },
     "execution_count": 62,
     "metadata": {},
     "output_type": "execute_result"
    }
   ],
   "source": [
    "def Scrabble_Score(word):\n",
    "    '''\n",
    "    str -> int\n",
    "    A map of a word to a scrabble score'''\n",
    "    \n",
    "    scrabblevalue={}\n",
    "    scrabblevalue[1]=['A','E','I','L','N','O','R','S','T','U']\n",
    "    scrabblevalue[2]=['D','G']\n",
    "    scrabblevalue[3]=['B','C','M','P']\n",
    "    scrabblevalue[4]=['F','H','V','W','Y']\n",
    "    scrabblevalue[5]=['K']\n",
    "    scrabblevalue[8]=['J','X']\n",
    "    scrabblevalue[10]=['Q','Z']\n",
    "    \n",
    "    word=word.upper()\n",
    "    \n",
    "    score=0\n",
    "    for letter in word:\n",
    "        for key, val in scrabblevalue.items():\n",
    "            if letter in val:\n",
    "                score+=key\n",
    "    return score\n",
    "    \n",
    "Scrabble_Score('quiet')    "
   ]
  },
  {
   "cell_type": "markdown",
   "metadata": {},
   "source": [
    "#### Exercise 138"
   ]
  },
  {
   "cell_type": "code",
   "execution_count": 611,
   "metadata": {},
   "outputs": [
    {
     "name": "stdout",
     "output_type": "stream",
     "text": [
      "B  I  N  G  O  \n",
      "6  16 41 46 67 \n",
      "14 16 35 57 64 \n",
      "4  19 42 54 68 \n",
      "8  18 40 59 61 \n",
      "15 23 37 52 65 \n"
     ]
    }
   ],
   "source": [
    "def init_card():\n",
    "    '''\n",
    "    create a bingo card'''\n",
    "    import random\n",
    "    random.seed()\n",
    "    \n",
    "    card={}\n",
    "    for idx, key in enumerate([ i for i in 'BINGO']):\n",
    "        card[key]=[random.randrange(idx*15+1,(idx+1)*15+1) for i in range(0,5)]\n",
    "    return card\n",
    "\n",
    "def show_card(card):\n",
    "    '''\n",
    "    dict -> None\n",
    "    \n",
    "    show the contents of a bingo card.\n",
    "    '''\n",
    "    for key in card.keys():\n",
    "        print(key+\"  \", end=\"\")\n",
    "    print()\n",
    "    for row in range(5):\n",
    "        for key, val in card.items():\n",
    "            if len(str(val[row])) == 1:\n",
    "                print(val[row], end=\"  \")\n",
    "            else:\n",
    "                print(val[row], end=\" \")\n",
    "        print()\n",
    "        \n",
    "show_card(init_card())"
   ]
  },
  {
   "cell_type": "markdown",
   "metadata": {},
   "source": [
    "#### Exercise 139"
   ]
  },
  {
   "cell_type": "code",
   "execution_count": 612,
   "metadata": {},
   "outputs": [],
   "source": [
    "def winning_card(card):\n",
    "    '''\n",
    "    dict -> bool\n",
    "    \n",
    "    determine if a bingo card is in a winning state '''\n",
    "    \n",
    "    #show_card(card)\n",
    "    \n",
    "    for key, values in card.items():\n",
    "        # Check cols which are dict values.\n",
    "        if all([i == 0 for i in values ]):\n",
    "            return True\n",
    "        \n",
    "    for row in range(5):\n",
    "        if all([card[i][row] == 0 for i in card.keys() ]):\n",
    "            return True\n",
    "    \n",
    "    if all([card[key][i] == 0 for i, key in enumerate(card.keys()) ]):\n",
    "        return True\n",
    "            \n",
    "    if all([card[key][4-i] == 0 for i, key in enumerate(card.keys()) ]):\n",
    "        return True\n",
    "            \n",
    "    return False"
   ]
  },
  {
   "cell_type": "code",
   "execution_count": 613,
   "metadata": {},
   "outputs": [],
   "source": [
    "mycard=init_card()\n",
    "mycard['B'][4]=0\n",
    "mycard['I'][4]=0\n",
    "mycard['N'][4]=0\n",
    "mycard['G'][4]=0\n",
    "mycard['O'][4]=0\n",
    "rowwinner=mycard\n",
    "\n",
    "mycard=init_card()\n",
    "mycard['O'][0]=0\n",
    "mycard['O'][1]=0\n",
    "mycard['O'][2]=0\n",
    "mycard['O'][3]=0\n",
    "mycard['O'][4]=0\n",
    "colwinner=mycard\n",
    "\n",
    "mycard=init_card()\n",
    "mycard['B'][0]=0\n",
    "mycard['I'][1]=0\n",
    "mycard['N'][2]=0\n",
    "mycard['G'][3]=0\n",
    "mycard['O'][4]=0\n",
    "diag1winner=mycard\n",
    "\n",
    "mycard=init_card()\n",
    "mycard['B'][4]=0\n",
    "mycard['I'][3]=0\n",
    "mycard['N'][2]=0\n",
    "mycard['G'][1]=0\n",
    "mycard['O'][0]=0\n",
    "diag2winner=mycard\n"
   ]
  },
  {
   "cell_type": "code",
   "execution_count": 614,
   "metadata": {},
   "outputs": [
    {
     "name": "stdout",
     "output_type": "stream",
     "text": [
      "True\n",
      "True\n",
      "True\n",
      "True\n",
      "False\n"
     ]
    }
   ],
   "source": [
    "for thiscard in [ colwinner, rowwinner, diag1winner, diag2winner, init_card()]:\n",
    "    print(winning_card(thiscard))"
   ]
  },
  {
   "cell_type": "markdown",
   "metadata": {},
   "source": [
    "#### Exercise 140"
   ]
  },
  {
   "cell_type": "code",
   "execution_count": 761,
   "metadata": {},
   "outputs": [],
   "source": [
    "def gen_balls():\n",
    "    '''\n",
    "    None - > List\n",
    "    \n",
    "    Builds a list of valid \"balls\" withdrawn during a bingo game'''\n",
    "    \n",
    "    balls=[]\n",
    "    for i, letter in enumerate(\"BINGO\"):\n",
    "        for j in range(15):\n",
    "            k=15*i+j+1\n",
    "            balls.append(letter+str(k))\n",
    "    random.shuffle(balls)\n",
    "    return balls\n",
    "\n",
    "def draw_one(balls):\n",
    "    \n",
    "    if len(balls) == 0:\n",
    "        return None, []\n",
    "    \n",
    "    # draw one ball\n",
    "    ball=balls.pop()\n",
    "    \n",
    "    return ball, balls\n",
    "    "
   ]
  },
  {
   "cell_type": "code",
   "execution_count": 763,
   "metadata": {},
   "outputs": [],
   "source": [
    "def update_card(ball,card):\n",
    "    '''\n",
    "    int, dict - > None\n",
    "    \n",
    "    Given a ball, update a bingo card if you have a slot matching the ball.\n",
    "    '''\n",
    "    letter, num = ball[0], ball[1:]\n",
    "    # The below is repeated for each possible duplicate of the number.\n",
    "    if int(num) in card[letter]:\n",
    "        card[letter][card[letter].index(int(num))]=0\n",
    "    if int(num) in card[letter]:\n",
    "        card[letter][card[letter].index(int(num))]=0\n",
    "    if int(num) in card[letter]:\n",
    "        card[letter][card[letter].index(int(num))]=0\n",
    "    if int(num) in card[letter]:\n",
    "        card[letter][card[letter].index(int(num))]=0\n",
    "    if int(num) in card[letter]:\n",
    "        card[letter][card[letter].index(int(num))]=0\n",
    "    return card"
   ]
  },
  {
   "cell_type": "code",
   "execution_count": 787,
   "metadata": {},
   "outputs": [],
   "source": [
    "def game():\n",
    "    '''\n",
    "    Play a game of bingo and report the number of balls required.'''\n",
    "    card=init_card()\n",
    "    #show_card(thiscard)\n",
    "    balls=gen_balls()\n",
    "    old_balls=[]\n",
    "    for i in range(75):\n",
    "        ball, balls=draw_one(balls)\n",
    "        old_balls.append(ball)\n",
    "        update_card(ball,card)\n",
    "        if winning_card(card):\n",
    "            return i"
   ]
  },
  {
   "cell_type": "code",
   "execution_count": 792,
   "metadata": {},
   "outputs": [
    {
     "name": "stdout",
     "output_type": "stream",
     "text": [
      "Shortest game was: 7 turns\n",
      "Longest game was: 66 turns\n",
      "Average game was: 40.517 turns\n"
     ]
    }
   ],
   "source": [
    "def main():\n",
    "    duration=[]\n",
    "    for i in range(1000):\n",
    "        duration.append(game())\n",
    "        \n",
    "    duration.sort()\n",
    "\n",
    "    ave=0\n",
    "    for i in duration:\n",
    "        ave+=i\n",
    "    ave=ave/len(duration)\n",
    "    print(\"Shortest game was:\", duration[0], \"turns\")\n",
    "    print(\"Longest game was:\", duration[-1], \"turns\")\n",
    "    print(\"Average game was:\", ave, \"turns\")\n",
    "\n",
    "main()"
   ]
  },
  {
   "cell_type": "code",
   "execution_count": null,
   "metadata": {},
   "outputs": [],
   "source": []
  }
 ],
 "metadata": {
  "kernelspec": {
   "display_name": "Python 3",
   "language": "python",
   "name": "python3"
  },
  "language_info": {
   "codemirror_mode": {
    "name": "ipython",
    "version": 3
   },
   "file_extension": ".py",
   "mimetype": "text/x-python",
   "name": "python",
   "nbconvert_exporter": "python",
   "pygments_lexer": "ipython3",
   "version": "3.8.5"
  },
  "varInspector": {
   "cols": {
    "lenName": 16,
    "lenType": 16,
    "lenVar": 40
   },
   "kernels_config": {
    "python": {
     "delete_cmd_postfix": "",
     "delete_cmd_prefix": "del ",
     "library": "var_list.py",
     "varRefreshCmd": "print(var_dic_list())"
    },
    "r": {
     "delete_cmd_postfix": ") ",
     "delete_cmd_prefix": "rm(",
     "library": "var_list.r",
     "varRefreshCmd": "cat(var_dic_list()) "
    }
   },
   "types_to_exclude": [
    "module",
    "function",
    "builtin_function_or_method",
    "instance",
    "_Feature"
   ],
   "window_display": false
  }
 },
 "nbformat": 4,
 "nbformat_minor": 2
}
