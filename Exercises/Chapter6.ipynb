{
 "cells": [
  {
   "cell_type": "markdown",
   "metadata": {},
   "source": [
    "#### Exercise 128"
   ]
  },
  {
   "cell_type": "code",
   "execution_count": 23,
   "metadata": {},
   "outputs": [],
   "source": [
    "def reverseLookup(inputdict, value):\n",
    "    '''\n",
    "    dict, str? -> list\n",
    "    \n",
    "    Find all keys in a dictionary \n",
    "    >>> mydict = {'a':1, 'A':1, 'b':2, 'B':2}\n",
    "    >>> reverseLookup(mydict, 2)\n",
    "    ['b', 'B']\n",
    "    '''\n",
    "    \n",
    "    output=[]\n",
    "    for key, val in mydict.items():\n",
    "        if val == value:\n",
    "            output.append(key)\n",
    "    return output\n",
    "    \n",
    "    \n",
    "    \n",
    "    \n",
    "    \n",
    "if __name__ == '__main__':\n",
    "    import doctest\n",
    "    doctest.testmod()"
   ]
  },
  {
   "cell_type": "markdown",
   "metadata": {},
   "source": [
    "#### Exercise 129"
   ]
  },
  {
   "cell_type": "code",
   "execution_count": 105,
   "metadata": {},
   "outputs": [
    {
     "name": "stdout",
     "output_type": "stream",
     "text": [
      "Total\tSimulated\tExpected\n",
      "\tPercent\t\tPercent\n",
      "2 \t 2.3 \t\t 2.78\n",
      "3 \t 4.3 \t\t 5.56\n",
      "4 \t 9.3 \t\t 8.33\n",
      "5 \t 11.3 \t\t 11.11\n",
      "6 \t 14.1 \t\t 13.89\n",
      "7 \t 18.2 \t\t 16.67\n",
      "8 \t 14.0 \t\t 13.89\n",
      "9 \t 11.0 \t\t 11.11\n",
      "10 \t 8.0 \t\t 8.33\n",
      "11 \t 5.8 \t\t 5.56\n",
      "12 \t 1.7 \t\t 2.78\n"
     ]
    }
   ],
   "source": [
    "def rollDice():\n",
    "    # A function to roll two dice.\n",
    "    import random\n",
    "    # possible values from 1 dice.\n",
    "    dice=[i for i in range(1,7)]\n",
    "    #roll the dice and record the value.\n",
    "    random.shuffle(dice)\n",
    "    die1=dice[0]\n",
    "    #roll the dice and record the value.\n",
    "    random.shuffle(dice)\n",
    "    die2=dice[0]\n",
    "    return die1+die2\n",
    "\n",
    "def CalcActual ():\n",
    "    # initialise\n",
    "    twoDieActual={}\n",
    "    for i in range(2,13):\n",
    "        twoDieActual[i]=0\n",
    "    # roll 2 dice 1000 times.\n",
    "    for i in range(1000):\n",
    "        twoDieActual[rollDice()]+=1\n",
    "    return twoDieActual\n",
    "\n",
    "def CalcExpected ():\n",
    "    twoDieExpected={}\n",
    "    for i in range(2,13):\n",
    "        twoDieExpected[i]=0\n",
    "    # Calculate expected number.\n",
    "    for i in range(1,7):\n",
    "        for j in range(1,7):\n",
    "            twoDieExpected[i+j]+=1\n",
    "    return twoDieExpected\n",
    "\n",
    "def CalcPercent (mydict):\n",
    "    # Converts dict values to percentages\n",
    "    total=sum(mydict.values())\n",
    "    for key, val in mydict.items():\n",
    "        mydict[key]=val*100/total\n",
    "    return mydict\n",
    "\n",
    "def main():\n",
    "    Actual=CalcPercent(CalcActual())\n",
    "    Expected=CalcPercent(CalcExpected())\n",
    "    print (\"Total\\tSimulated\\tExpected\")\n",
    "    print (\"\\tPercent\\t\\tPercent\")\n",
    "    for i in Actual.keys():\n",
    "        print(i,\"\\t\",Actual[i],\"\\t\\t\",round(Expected[i],2))\n",
    "    return None\n",
    "\n",
    "main()"
   ]
  },
  {
   "cell_type": "markdown",
   "metadata": {},
   "source": [
    "#### Exercise 130"
   ]
  },
  {
   "cell_type": "code",
   "execution_count": 159,
   "metadata": {},
   "outputs": [
    {
     "name": "stdout",
     "output_type": "stream",
     "text": [
      "443355555566611966677755531111\n"
     ]
    }
   ],
   "source": [
    "def keys ():\n",
    "    ''' \n",
    "    None -> dict\n",
    "    build dict for sms'''\n",
    "    mydict={}\n",
    "    mydict[1]=['.',',','?','!',':']\n",
    "    mydict[2]=['A','B','C']\n",
    "    mydict[3]=['D','E','F']\n",
    "    mydict[4]=['G','H','I']\n",
    "    mydict[5]=['J','K','L']\n",
    "    mydict[6]=['M','N','O']\n",
    "    mydict[7]=['P','Q','R','S']\n",
    "    mydict[8]=['T','U','V']\n",
    "    mydict[9]=['W','X','Y','Z']\n",
    "    mydict[0]=[' ']\n",
    "    return mydict\n",
    "\n",
    "def keylookup(symbol):\n",
    "    ''' \n",
    "    str -> str\n",
    "    returns numbers needed to get symbol\n",
    "    '''\n",
    "    \n",
    "    SMSDict=keys()\n",
    "    output=\"\"\n",
    "    \n",
    "    symbol=symbol.upper()\n",
    "    for key, val in SMSDict.items():\n",
    "        if symbol in val:\n",
    "            for i in range(len(val)):\n",
    "                output=output+str(key)\n",
    "                if val[i] == symbol:\n",
    "                    return output\n",
    "                \n",
    "def main():\n",
    "    inputstr=\"Hello,World!\"\n",
    "    keystrokes=\"\"\n",
    "    for character in inputstr:\n",
    "        #print(character)\n",
    "        keystrokes=keystrokes+keylookup(character)\n",
    "    print(keystrokes)\n",
    "    \n",
    "main()"
   ]
  },
  {
   "cell_type": "markdown",
   "metadata": {},
   "source": [
    "#### Exercise 131"
   ]
  },
  {
   "cell_type": "code",
   "execution_count": 185,
   "metadata": {},
   "outputs": [
    {
     "name": "stdout",
     "output_type": "stream",
     "text": [
      "Enter your message to convert to Morse Code: Hello, World!\n",
      ".... . .-.. .-.. --- .-- --- .-. .-.. -.. \n"
     ]
    }
   ],
   "source": [
    "def MorseDict():\n",
    "    '''\n",
    "    None -> Dict\n",
    "    Build Morse Code Dictionary\n",
    "    '''\n",
    "    D={}\n",
    "    D['A']='.-'\n",
    "    D['B']='-...'\n",
    "    D['C']='-.-.'\n",
    "    D['D']='-..'\n",
    "    D['E']='.'\n",
    "    D['F']='..-.'\n",
    "    D['G']='--.'\n",
    "    D['H']='....'\n",
    "    D['I']='..'\n",
    "    D['J']='.---'\n",
    "    D['K']='-.-'\n",
    "    D['L']='.-..'\n",
    "    D['M']='--'\n",
    "    D['N']='-.'\n",
    "    D['O']='---'\n",
    "    D['P']='.--.'\n",
    "    D['Q']='--.-'\n",
    "    D['R']='.-.'\n",
    "    D['S']='...'\n",
    "    D['T']='-'\n",
    "    D['U']='..-'\n",
    "    D['V']='...-'\n",
    "    D['W']='.--'\n",
    "    D['X']='-..-'\n",
    "    D['Y']='-.--'\n",
    "    D['Z']='--..'\n",
    "    D['0']='-----'\n",
    "    D['1']='.----'\n",
    "    D['2']='..---'\n",
    "    D['3']='...--'\n",
    "    D['4']='....-'\n",
    "    D['5']='.....'\n",
    "    D['6']='-....'\n",
    "    D['7']='--...'\n",
    "    D['8']='---..'\n",
    "    D['9']='----.'\n",
    "    return D\n",
    "\n",
    "def Morselookup(symbol):\n",
    "    ''' \n",
    "    str -> str\n",
    "    returns dots and dashes needed to get symbol\n",
    "    '''\n",
    "    \n",
    "    MorseCode=MorseDict()\n",
    "    output=\"\"\n",
    "    \n",
    "    symbol=symbol.upper()\n",
    "    for key, val in MorseCode.items():\n",
    "        if symbol == key:\n",
    "            return str(val)+\" \"\n",
    "    # Only return a blank string if the requested symbol was not in the dict.    \n",
    "    return \"\"\n",
    "\n",
    "inputstr=input(\"Enter your message to convert to Morse Code: \")\n",
    "dotsdashes=\"\"\n",
    "for char in inputstr:\n",
    "    dotsdashes=dotsdashes+Morselookup(char)\n",
    "print (dotsdashes)"
   ]
  },
  {
   "cell_type": "markdown",
   "metadata": {},
   "source": [
    "#### Exercise 134"
   ]
  },
  {
   "cell_type": "code",
   "execution_count": 192,
   "metadata": {},
   "outputs": [
    {
     "name": "stdout",
     "output_type": "stream",
     "text": [
      "Enter a string: z\n",
      "There are 1 unique characters in z\n"
     ]
    }
   ],
   "source": [
    "def countUniq(inputstr):\n",
    "    '''\n",
    "    str -> int\n",
    "    returns a count of the number of unique character in a string'''\n",
    "    numunique=0\n",
    "    \n",
    "    chardict={}\n",
    "    for char in inputstr:\n",
    "        if char not in chardict.keys():\n",
    "            chardict[char]=1\n",
    "    return sum(chardict.values())\n",
    "    \n",
    "    \n",
    "def main():\n",
    "    userstr=input(\"Enter a string: \")\n",
    "    print(\"There are\", countUniq(userstr),\"unique characters in\",userstr)\n",
    "    return None\n",
    "\n",
    "main()\n",
    "    "
   ]
  },
  {
   "cell_type": "markdown",
   "metadata": {},
   "source": [
    "#### Exercise 135"
   ]
  },
  {
   "cell_type": "code",
   "execution_count": 204,
   "metadata": {},
   "outputs": [
    {
     "name": "stdout",
     "output_type": "stream",
     "text": [
      "Enter your first word: baris\n",
      "Enter your second word: zz\n",
      "Sorry, this is not an anagram\n"
     ]
    }
   ],
   "source": [
    "def checkAnagram(word1, word2):\n",
    "    '''\n",
    "    str, str -> bool\n",
    "    \n",
    "    Check if two words are anagrams\n",
    "    \n",
    "    '''\n",
    "    \n",
    "    word1dict={}\n",
    "    word2dict={}\n",
    "    \n",
    "    for char in word1:\n",
    "        if char not in word1dict.keys():\n",
    "            word1dict[char]=1\n",
    "        else:\n",
    "            word1dict[char]+=1\n",
    "    for char in word2:\n",
    "        if char not in word2dict.keys():\n",
    "            word2dict[char]=1\n",
    "        else:\n",
    "            word2dict[char]+=1    \n",
    "    return word1dict == word2dict\n",
    "\n",
    "word1=input(\"Enter your first word: \")\n",
    "word2=input(\"Enter your second word: \")\n",
    "\n",
    "if checkAnagram(word1,word2):\n",
    "    print (\"Congratulations, you found an anagram\")\n",
    "else:\n",
    "    print(\"Sorry, this is not an anagram\")"
   ]
  },
  {
   "cell_type": "markdown",
   "metadata": {},
   "source": [
    "#### Exercise 136"
   ]
  },
  {
   "cell_type": "code",
   "execution_count": 206,
   "metadata": {},
   "outputs": [
    {
     "name": "stdout",
     "output_type": "stream",
     "text": [
      "Enter your first word: William Shakespeare\n",
      "Enter your second word: I am a weakish speller\n",
      "Congratulations, you found an anagram\n"
     ]
    }
   ],
   "source": [
    "def checkAnagram(word1, word2):\n",
    "    '''\n",
    "    str, str -> bool\n",
    "    \n",
    "    Check if two words are anagrams\n",
    "    \n",
    "    '''\n",
    "    \n",
    "    word1=word1.upper()\n",
    "    word2=word2.upper()\n",
    "    \n",
    "    word1=word1.replace(\" \",\"\")\n",
    "    word2=word2.replace(\" \",\"\")\n",
    "    \n",
    "    word1dict={}\n",
    "    word2dict={}\n",
    "    \n",
    "    for char in word1:\n",
    "        if char not in word1dict.keys():\n",
    "            word1dict[char]=1\n",
    "        else:\n",
    "            word1dict[char]+=1\n",
    "    for char in word2:\n",
    "        if char not in word2dict.keys():\n",
    "            word2dict[char]=1\n",
    "        else:\n",
    "            word2dict[char]+=1    \n",
    "    return word1dict == word2dict\n",
    "\n",
    "word1=input(\"Enter your first word: \")\n",
    "word2=input(\"Enter your second word: \")\n",
    "\n",
    "if checkAnagram(word1,word2):\n",
    "    print (\"Congratulations, you found an anagram\")\n",
    "else:\n",
    "    print(\"Sorry, this is not an anagram\")"
   ]
  },
  {
   "cell_type": "code",
   "execution_count": null,
   "metadata": {},
   "outputs": [],
   "source": []
  }
 ],
 "metadata": {
  "kernelspec": {
   "display_name": "Python 3",
   "language": "python",
   "name": "python3"
  },
  "language_info": {
   "codemirror_mode": {
    "name": "ipython",
    "version": 3
   },
   "file_extension": ".py",
   "mimetype": "text/x-python",
   "name": "python",
   "nbconvert_exporter": "python",
   "pygments_lexer": "ipython3",
   "version": "3.7.6"
  }
 },
 "nbformat": 4,
 "nbformat_minor": 2
}
